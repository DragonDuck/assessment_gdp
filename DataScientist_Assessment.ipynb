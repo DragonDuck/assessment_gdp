{
 "cells": [
  {
   "cell_type": "code",
   "execution_count": 103,
   "metadata": {},
   "outputs": [],
   "source": [
    "import pandas as pd\n",
    "import re\n",
    "import matplotlib.pyplot as plt\n",
    "import seaborn as sns"
   ]
  },
  {
   "cell_type": "markdown",
   "metadata": {},
   "source": [
    "# Question 1"
   ]
  },
  {
   "cell_type": "code",
   "execution_count": 210,
   "metadata": {},
   "outputs": [],
   "source": [
    "def partial_sum(input_list):\n",
    "    \"\"\"\n",
    "    This function returns an array output where output[i] is the sum of all input numbers except input[i] \n",
    "    \"\"\"\n",
    "    output = []\n",
    "    for ii in range(len(input_list)):\n",
    "        output.append(sum(input_list[:ii] + input_list[ii+1:]))\n",
    "    return output"
   ]
  },
  {
   "cell_type": "code",
   "execution_count": 215,
   "metadata": {},
   "outputs": [],
   "source": [
    "assert partial_sum([1,2,3,4]) == [9,8,7,6]\n",
    "assert partial_sum([2,9,5,5,1]) == [20,13,17,17,21]"
   ]
  },
  {
   "cell_type": "markdown",
   "metadata": {},
   "source": [
    "# Question 2"
   ]
  },
  {
   "cell_type": "code",
   "execution_count": 206,
   "metadata": {},
   "outputs": [],
   "source": [
    "# I am only interested in the 'jobpost' column\n",
    "postings = pd.read_csv(\"job_posts.csv\", usecols=[\"jobpost\"])[\"jobpost\"]"
   ]
  },
  {
   "cell_type": "code",
   "execution_count": 49,
   "metadata": {},
   "outputs": [
    {
     "data": {
      "text/plain": [
       "0    AMERIA Investment Consulting Company\\r\\nJOB TI...\n",
       "1    International Research & Exchanges Board (IREX...\n",
       "2    Caucasus Environmental NGO Network (CENN)\\r\\nJ...\n",
       "3    Manoff Group\\r\\nJOB TITLE:  BCC Specialist\\r\\n...\n",
       "4    Yerevan Brandy Company\\r\\nJOB TITLE:  Software...\n",
       "Name: jobpost, dtype: object"
      ]
     },
     "execution_count": 49,
     "metadata": {},
     "output_type": "execute_result"
    }
   ],
   "source": [
    "postings.head()"
   ]
  },
  {
   "cell_type": "code",
   "execution_count": 220,
   "metadata": {},
   "outputs": [
    {
     "name": "stdout",
     "output_type": "stream",
     "text": [
      "AMERIA Investment Consulting Company\n",
      "JOB TITLE:  Chief Financial Officer\n",
      "POSITION LOCATION: Yerevan, Armenia\n",
      "JOB DESCRIPTION:   AMERIA Investment Consulting Company is seeking a\n",
      "Chief Financial Officer. This position manages the company's fiscal and\n",
      "administrative functions, provides highly responsible and technically\n",
      "complex staff assistance to the Executive Director. The work performed\n",
      "requires a high level of technical proficiency in financial management\n",
      "and investment management, as well as management, supervisory, and\n",
      "administrative skills.\n",
      "JOB RESPONSIBILITIES:  \n",
      "- Supervises financial management and administrative staff, including\n",
      "assigning responsibilities, reviewing employees' work processes and\n",
      "products, counseling employees, giving performance evaluations, and\n",
      "recommending disciplinary action;\n",
      "- Serves as member of management team participating in both strategic\n",
      "and operational planning for the company;\n",
      "- Directs and oversees the company's financial management activities,\n",
      "including establishing and monitoring internal controls, managing cash\n",
      "and investments, and managing the investment portfolio in collaboration\n",
      "with the Investment team leader. This includes, but is not limited to,\n",
      "evaluation of investment risk, concentration risk, fund deployment\n",
      "levels, adequacy of loss and liquidity reserves Assists investment team\n",
      "in development of proper documentation and internal systems;\n",
      "- Directs and oversees the annual budgeting process, including\n",
      "developing projections for financial planning, and preparing budgets;\n",
      "- Prepares external and internal financial management reports, such as\n",
      "audited financial statements, tax returns, and reports for the board of\n",
      "directors and company staff;\n",
      "- Develops, implements, and maintains efficient and effective accounting\n",
      "systems and controls to ensure compliance with national and\n",
      "international accounting standards and principles, sufficiency of fund\n",
      "accounting, and comprehensiveness of data for reporting and compliance\n",
      "requirements;\n",
      "- Ensures contract compliance, including interpreting and monitoring\n",
      "contracts with clients, submitting required reports, and monitoring\n",
      "covenants and other contract terms;\n",
      "- Oversees the design, implementation and maintenance of computer-based\n",
      "information system. Oversees records retention (both manual and\n",
      "computer-based) and file maintenance activities;\n",
      "- Serves as company's risk manager, including evaluating loss exposure\n",
      "and obtaining insurance as appropriate;\n",
      "- Manages other administrative operations, such as facilities\n",
      "management, payroll administration, office operations, and\n",
      "administrative support;\n",
      "- Monitors corporate compliance with by-laws and articles of\n",
      "incorporation regarding corporate registration and reporting of\n",
      "fundraising operations.\n",
      "REQUIRED QUALIFICATIONS:  To perform this job successfully, an\n",
      "individual must be able to perform each essential duty satisfactorily.\n",
      "The requirements listed below are representative of the knowledge,\n",
      "skill, and/or ability required.\n",
      "Knowledge of:\n",
      "- Generally accepted accounting principles;\n",
      "- Local accounting standards and legislation;\n",
      "- State reporting requirements pertaining to accounting;\n",
      "- Principles and practices of financial management and budgeting;\n",
      "- Principles and practices of financial systems design and analysis;\n",
      "- Principles and practices of contract management, records management,\n",
      "and risk management;\n",
      "- Principles and practices of management and supervision;\n",
      "- Principles and practices of information systems management.\n",
      "Ability to:\n",
      "- Apply sound fiscal and administrative practices to the company's\n",
      "activities;\n",
      "- Plan, organize and supervise the work of subordinate employees,\n",
      "including training them, assigning and evaluating their work, and\n",
      "providing job performance feedback;\n",
      "- Critically analyze fiscal and administrative policies, practices,\n",
      "procedures, and systems, and recommend and implement changes as needed;\n",
      "- Gather and synthesize financial information from a variety of sources\n",
      "and present it to a variety of audiences with differing financial\n",
      "management and analysis expertise;\n",
      "- Prepare detailed, comprehensive financial reports, including\n",
      "explanatory text;\n",
      "- Operate IBM-compatible personal computer, including word processing,\n",
      "spreadsheet, and database software applications;\n",
      "- Operate specialized software applications that support the financial\n",
      "management and budgeting functions.\n",
      "Qualifications:\n",
      "- A minimum of 5-7 years Accounting/ Corporate Finance/ Banking\n",
      "experience, including a role as a CFO;\n",
      "- Excellent finance and accounting technical skills coupled with a\n",
      "demonstrated knowledge of all key financial functions in an consulting\n",
      "company context - accounting, finance, control, treasury, reserving, and\n",
      "reporting;\n",
      "- Strong financial planning and analytical skills and experience and the\n",
      "ability to work closely with and support the CEO and other executives in\n",
      "strategic development and implementation;\n",
      "- Excellent leadership, management and supervisory track record of\n",
      "attracting, selecting, developing, rewarding and retaining high-caliber,\n",
      "accounting and finance executive and teams who achieve business goals;\n",
      "- An undergraduate degree in finance, business, or other related\n",
      "discipline is required. A CPA, CFA, ACCA or other financial\n",
      "certification is highly preferred, as is a Masters degree in Business\n",
      "Administration, Accounting or Finance;\n",
      "- Fluency in English, Armenian and Russian with outstanding writing\n",
      "skills;\n",
      "- Excellent analytical, communication, teamwork, interpersonal skills;\n",
      "- Need to be well organized and detail-oriented as well as goal/ result\n",
      "driven and able to deal with complex issues.\n",
      "APPLICATION PROCEDURES:  To apply for this position, please submit a\n",
      "cover letter and a resume addressing relevant qualifications and\n",
      "experience and information on professional reference strictly to Tatevik\n",
      "Hovhannisyan; Executive Assistant: fax: 374-1-546800 or e-mail:ameria@.... Tel: 374 (1) 524040; 524140. Only shortlisted\n",
      "candidates will be notified for an interview.\n",
      "Please clearly mention in your application letter that you learned of\n",
      "this job opportunity through Career Center and mention the URL of its\n",
      "website - www.careercenter.am, Thanks.\n",
      "APPLICATION DEADLINE:   26 January 2004\n",
      "----------------------------------\n",
      "To place a free posting for job or other career related opportunities in\n",
      "your organization at careercenter.am website, e-mail us atmailbox@...\n"
     ]
    }
   ],
   "source": [
    "print(postings[0])"
   ]
  },
  {
   "cell_type": "markdown",
   "metadata": {},
   "source": [
    "The jobposts seem to have the same structure for each entry. New \"headers\" are printed in all capital letters, followed by a colon. Most entries place headers on a new line but some do not. The steps to identify and extract the headers are as follows:\n",
    "\n",
    "1. Search for all fully capitalized headers at the beginning of lines. This serves to identify variants, e.g. 'TITLE' vs. 'JOB TITLE'.\n",
    "2. Identify headers relevant to the information I want to extract and form groups of similar headers.\n",
    "3. Search for those specific headers but without the constraint that they must be at the beginning of a line. This ensures that fewer job postings are skipped due to unexpected formatting.\n",
    "4. Explore outliers."
   ]
  },
  {
   "cell_type": "markdown",
   "metadata": {},
   "source": [
    "## Step 1"
   ]
  },
  {
   "cell_type": "code",
   "execution_count": 245,
   "metadata": {},
   "outputs": [],
   "source": [
    "# Extract all capitalized headers in the job postings that start on a new line\n",
    "headers = [re.findall(pattern=\"\\n([A-Z /]+):\", string=entry) for entry in postings]"
   ]
  },
  {
   "cell_type": "code",
   "execution_count": 248,
   "metadata": {},
   "outputs": [
    {
     "name": "stdout",
     "output_type": "stream",
     "text": [
      "ABOUT\n",
      "ABOUT CHAMPIONSHIP\n",
      "ABOUT COMPANY\n",
      "ABOUT PROGRAM\n",
      "ABOUT PROGRAM/ PROJECT\n",
      "ABOUT PROJECT\n",
      "ABOUT THE SPEAKER\n",
      "ADDITIONAL CHARACTERISTICS\n",
      "ADDITIONAL COMPETENCIES\n",
      "ADDITIONAL DESIRED CHARACTERISTICS\n",
      "ADDITIONAL NOTES\n",
      "ADDITIONAL RESPONSIBILITIES\n",
      "ADDITIONAL SELECTION CRITEREA\n",
      "ADDITIONAL SELECTION CRITERIA\n",
      "ADMINISTRATIVE DUTIES\n",
      "AEFM\n",
      "ANNOUNCEMENT CODE\n",
      "ANNOUNCEMENT NUMBER\n",
      "APPLICATION DEADLINE\n",
      "APPLICATION PROCEDURES\n",
      "ATTACHMENTS\n",
      "AUTHOR\n",
      "BACKGROUND\n",
      "BASIC FUNCTION OF THE POSITION\n",
      "COMMUNICATIONS\n",
      "COMPETENCIES\n",
      "CONTACT INFORMATION\n",
      "CORPORATE COMPETENCIES\n",
      "COURSE OVERVIEW\n",
      "CRITERIA\n",
      "DATE/ TIME\n",
      "DEFINITION\n",
      "DEFINITIONS\n",
      "DESCRIPTION\n",
      "DESIRABLE COMPETENCIES\n",
      "DESIRABLE EXPERIENCE\n",
      "DESIRABLE QUALIFICATIONS\n",
      "DESIRED QUALIFICATION\n",
      "DESIRED QUALIFICATIONS\n",
      "DESIRED SKILLS\n",
      "DESIRED SKILLS AND KNOWLEDGE\n",
      "DETAIL DESCRIPTION\n",
      "DISTINGUISHING FEATURES\n",
      "DNS\n",
      "DOMAIN KNOWLEDGE\n",
      "DURATION\n",
      "EDUCATION TYPE\n",
      "EDUCATION/ EXPERIENCE\n",
      "EDUCATIONAL LEVEL\n",
      "EFM/MOH/NOR\n",
      "ELIGIBILITY\n",
      "ENROLLMENT\n",
      "ESSENTIAL SPECIALIZED SKILLS/ KNOWLEDGE/ COMPETENCIES\n",
      "EU CONTRACT NUMBER\n",
      "EVENT TYPE\n",
      "FAX\n",
      "FEE\n",
      "FELLOWSHIP TYPE\n",
      "FTP\n",
      "FUNCTIONAL COMPETENCIES\n",
      "FUNCTIONAL TITLE\n",
      "GIK\n",
      "GRADE LEVEL\n",
      "IMPACT OF RESULTS\n",
      "INSTRUCTOR\n",
      "INSTRUCTORS\n",
      "INTENDED AUDIENCE\n",
      "IP\n",
      "IT\n",
      "JOB DESCRIPTION\n",
      "JOB RESPONSIBILITIES\n",
      "JOB TITLE\n",
      "KEY COMPETENCIES\n",
      "LANGUAGE\n",
      "LOCATION\n",
      "MEAL\n",
      "MEL\n",
      "METHODOLOGY\n",
      "MMT PROJECT DESCRIPTION\n",
      "NB\n",
      "NEWS DETAILS\n",
      "NEWS TYPE\n",
      "NKRJOB DESCRIPTION\n",
      "NOMINATION GUIDELINES\n",
      "NOTE\n",
      "NOTICE\n",
      "OBJECTIVE\n",
      "OCCASIONAL SIGNIFICANT DUTIES\n",
      "OPEN TO\n",
      "OPEN TO/ ELIGIBILITY CRITERIA\n",
      "OPENING DATE\n",
      "OSCE\n",
      "OTHER RESPONSIBILITIES\n",
      "OTHER SKILLS\n",
      "PAGES\n",
      "PANELISTS\n",
      "PARTICIPATION FEE\n",
      "PLEASE NOTE\n",
      "POINT OF CONTACT\n",
      "POSITION DURATION\n",
      "POSITION LOCATION\n",
      "PREFERENCES\n",
      "PREFERRED ADDITIONAL CRITERIA\n",
      "PREFERRED QUALIFICATIONS\n",
      "PROFESSIONAL SKILLS\n",
      "PROJECT DESCRIPTION\n",
      "PROJECT DURATION\n",
      "PROJECT LOCATION\n",
      "PUBLICATION DATE\n",
      "PUBLICATION TYPE\n",
      "PURPOSE OF THE AWARD\n",
      "RA\n",
      "REFERENCE CODE\n",
      "REGISTRATION AND PAYMENT IN PERSON\n",
      "RELOCATION PACKAGE\n",
      "REMUNERATION\n",
      "REMUNERATION/ SALARY\n",
      "REPORTING REQUIREMENTS\n",
      "REPORTS TO\n",
      "REQUIRED QUALIFICATIONS\n",
      "REQUIREMENTS\n",
      "RESPONSIBILITIES\n",
      "SALARY\n",
      "SCHEDULE\n",
      "SCHOLARSHIP TYPE\n",
      "SECTIONS\n",
      "SELECTION PROCEDURES\n",
      "SELECTION PROCESS\n",
      "SKILLS\n",
      "SKILLS/KNOWLEDGE\n",
      "SPECIAL COURSES\n",
      "SPECIAL REQUIREMENTS\n",
      "SPECIFIC JOB REQUIREMENTS\n",
      "SPECIFY JOB CODE\n",
      "SSH\n",
      "START DATE\n",
      "START DATE/ TIME\n",
      "SUPERVISES\n",
      "SYLLABUS OUTLINE\n",
      "TERM\n",
      "THE FOLLOWING BENEFITS\n",
      "TITLE\n",
      "TOTAL\n",
      "TRAINERS\n",
      "UNDP\n",
      "URL\n",
      "USA\n",
      "WORK EXPERIENCE\n",
      "WORK HOURS\n",
      "WORKSHOP LEADERS\n",
      "XML\n"
     ]
    }
   ],
   "source": [
    "# Look at all unique headers\n",
    "all_headers = set([item for sublist in headers for item in sublist])\n",
    "for header in sorted(all_headers):\n",
    "    print(header)"
   ]
  },
  {
   "cell_type": "markdown",
   "metadata": {},
   "source": [
    "I can ensure that my approach is suitable by showing that most of the job postings are in the format I expect. The following barplot shows the number of headers per job posting. The vast majority of job postings adhere to this format, i.e. capitalized headers at the beginning of lines, followed by a colon."
   ]
  },
  {
   "cell_type": "code",
   "execution_count": 166,
   "metadata": {},
   "outputs": [
    {
     "data": {
      "image/png": "[encoded data removed]",
      "text/plain": [
       "<Figure size 432x288 with 1 Axes>"
      ]
     },
     "metadata": {
      "needs_background": "light"
     },
     "output_type": "display_data"
    }
   ],
   "source": [
    "sns.countplot([len(x) for x in headers], color=\"grey\")\n",
    "plt.yscale(\"log\")"
   ]
  },
  {
   "cell_type": "code",
   "execution_count": 174,
   "metadata": {},
   "outputs": [
    {
     "name": "stdout",
     "output_type": "stream",
     "text": [
      "99.71% of job postings have at least 5 headers as defined above.\n"
     ]
    }
   ],
   "source": [
    "print(\"{:.2f}% of job postings have at least 5 headers as defined above.\".format(\n",
    "    sum([len(x) > 5 for x in headers]) * 100 / len(headers)))"
   ]
  },
  {
   "cell_type": "markdown",
   "metadata": {},
   "source": [
    "## Step 2\n",
    "The next step requires some manual work to find symonyms for the information I'm interested in extracting from the jobposts column:\n",
    "\n",
    "1. Job Title: \n",
    "    - `JOB TITLE`\n",
    "    - `TITLE`\n",
    "2. Position Duration:\n",
    "    - `POSITION DURATION`\n",
    "    - `DURATION`\n",
    "3. Position Location:\n",
    "    - `POSITION LOCATION`\n",
    "    - `LOCATION`\n",
    "4. Job Description\n",
    "    - `JOB DESCRIPTION`\n",
    "    - `NKRJOB DESCRIPTION`\n",
    "    - `DESCRIPTION`\n",
    "5. Job Responsibilities\n",
    "    - `RESPONSIBILITIES`\n",
    "    - `JOB RESPONSIBILITIES`\n",
    "6. Required Qualifactions\n",
    "    - `REQUIRED QUALIFICATIONS`\n",
    "    - `DESIRED QUALIFICATION`\n",
    "    - `PREFERRED QUALIFICATIONS`\n",
    "    - `DESIRABLE QUALIFICATIONS`\n",
    "    - `DESIRED QUALIFICATIONS`\n",
    "    - `DESIRABLE COMPETENCIES`\n",
    "    - `KEY COMPETENCIES`\n",
    "    - `COMPETENCIES`\n",
    "    - `ESSENTIAL SPECIALIZED SKILLS/ KNOWLEDGE/ COMPETENCIES`\n",
    "    - `CORPORATE COMPETENCIES`\n",
    "    - `FUNCTIONAL COMPETENCIES`\n",
    "    - `ADDITIONAL COMPETENCIES`\n",
    "    - Special note: Qualifications is a very variable field. Many entries also contain sections on desired qualifications and \"nice-to-haves\". In general, if an entry has the field `REQUIRED QUALIFICATIONS`, then the others should be ignored. Only if it is missing should the others be used.\n",
    "7. Remuneration\n",
    "    - `REMUNERATION/ SALARY`\n",
    "    - `REMUNERATION`\n",
    "    - `SALARY`\n",
    "8. Application Deadline\n",
    "    - `APPLICATION DEADLINE`\n",
    "9. About Company\n",
    "    - `ABOUT COMPANY`\n",
    "    - `ABOUT`"
   ]
  },
  {
   "cell_type": "code",
   "execution_count": null,
   "metadata": {},
   "outputs": [],
   "source": []
  },
  {
   "cell_type": "code",
   "execution_count": 372,
   "metadata": {},
   "outputs": [
    {
     "data": {
      "text/plain": [
       "['ABOUT COMPANY',\n",
       " 'ABOUT THE SPEAKER',\n",
       " 'ABOUT CHAMPIONSHIP',\n",
       " 'ABOUT PROGRAM/ PROJECT',\n",
       " 'ABOUT',\n",
       " 'ABOUT PROJECT',\n",
       " 'ABOUT PROGRAM']"
      ]
     },
     "execution_count": 372,
     "metadata": {},
     "output_type": "execute_result"
    }
   ],
   "source": [
    "[header for header in all_headers if \"ABOUT\" in header]"
   ]
  },
  {
   "cell_type": "code",
   "execution_count": 370,
   "metadata": {},
   "outputs": [
    {
     "name": "stdout",
     "output_type": "stream",
     "text": [
      "537\n"
     ]
    }
   ],
   "source": [
    "tmp = [\n",
    "    postings[ii] for ii in range(len(postings)) if \n",
    "    len(re.findall(\"ABOUT\", \" \".join(headers[ii]))) > 1]\n",
    "print(len(tmp))"
   ]
  },
  {
   "cell_type": "code",
   "execution_count": 373,
   "metadata": {},
   "outputs": [
    {
     "name": "stdout",
     "output_type": "stream",
     "text": [
      "1012\n"
     ]
    }
   ],
   "source": [
    "tmp = [\n",
    "    postings[ii] for ii in range(len(postings)) if \n",
    "    \"ABOUT\" in headers[ii]]\n",
    "print(len(tmp))"
   ]
  },
  {
   "cell_type": "code",
   "execution_count": 374,
   "metadata": {},
   "outputs": [
    {
     "name": "stdout",
     "output_type": "stream",
     "text": [
      "OSI International Higher Education Support Program (HESP)\n",
      "TITLE:  Country Coordinators Russia, Azerbaijan, Armenia\n",
      "LOCATION:  Country Office\n",
      "JOB DESCRIPTION:  Country Coordinators will report directly to the\n",
      "Region Managers. They will be responsible for the management and\n",
      "implementation of the fellowship programs and projects in their target\n",
      "countries: for coordinating all recruitment, selection, placement\n",
      "procedures; university relations; strategy evelopment; program,\n",
      "administrative and financial matters.\n",
      "JOB RESPONSIBILITIES:  Essential duties may include, but are not limited\n",
      "to the following: \n",
      "- Communicate effectively with the head office and Region Manager on\n",
      "program strategy, financial and reporting policies and obligations; \n",
      "- Be responsible for the implementation of all aspects of the program in\n",
      "their respective country; \n",
      "- Organize orientation and placement of program international fellows,\n",
      "support their activities; \n",
      "- Organize recruitment, interviewing, selection and placement for the\n",
      "local fellows; \n",
      "- Cooperate and actively participate in the regional projects and\n",
      "initiatives; \n",
      "- Promote program with partner institutions; \n",
      "- Be responsible for effective University Relations: coordinate and\n",
      "support the process of identifying target partner higher education\n",
      "institutions; \n",
      "- Supervise the process of teaching evaluations for the fellows; \n",
      "-Work closely with the regional director to accommodate local needs in\n",
      "the regional strategy; \n",
      "- Carry out fundraising for the country program; \n",
      "- Carry out financial and program reporting.\n",
      "REQUIRED QUALIFICATIONS:  Minimum M.A. in education, public\n",
      "administration, social studies/humanities and/or other related field; \n",
      "- At least three years experience in a leadership capacity; \n",
      "- Experience and competencies in working in a multicultural environment;\n",
      "- Experience and or understanding of the development of educational\n",
      "programs; \n",
      "- Excellent command of English \n",
      "- Excellent command of the English language and ability to communicate\n",
      "at least in one of the regional languages; \n",
      "- Ability to articulate a clear vision; \n",
      "- Skills and energies to build a team and lead effective staff\n",
      "development and training; \n",
      "- Extensive program management and planning skills; excellent;\n",
      "- Public relations and interpersonal skills.\n",
      "APPLICATION PROCEDURES:  Applications in English including a cover\n",
      "letter and detailed curriculum vitae to: applications@....\n",
      "Open Society Institute \n",
      "International Higher Education Support Program (HESP) \n",
      "Budapest, Hungary\n",
      "Please clearly mention in your application letter that you learned of\n",
      "this job opportunity through Career Center and mention the URL of its\n",
      "website - www.careercenter.am, Thanks.\n",
      "APPLICATION DEADLINE:  4 June 2004\n",
      "ABOUT:  The International Higher Education Support Program (HESP)\n",
      "promotes the advancement of higher education within the humanities and\n",
      "social sciences throughout the region of Central ,Southeast and Eastern\n",
      "Europe, the former Soviet Union and Mongolia.\n",
      "----------------------------------\n",
      "To place a free posting for job or other career-related opportunities in\n",
      "your organization on the careercenter.am website, e-mail us atmailbox@...\n"
     ]
    }
   ],
   "source": [
    "print(tmp[0])"
   ]
  },
  {
   "cell_type": "code",
   "execution_count": null,
   "metadata": {},
   "outputs": [],
   "source": []
  }
 ],
 "metadata": {
  "kernelspec": {
   "display_name": "Python 3",
   "language": "python",
   "name": "python3"
  },
  "language_info": {
   "codemirror_mode": {
    "name": "ipython",
    "version": 3
   },
   "file_extension": ".py",
   "mimetype": "text/x-python",
   "name": "python",
   "nbconvert_exporter": "python",
   "pygments_lexer": "ipython3",
   "version": "3.7.3"
  }
 },
 "nbformat": 4,
 "nbformat_minor": 2
}
