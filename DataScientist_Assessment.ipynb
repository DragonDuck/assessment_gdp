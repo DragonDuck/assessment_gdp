{
 "cells": [
  {
   "cell_type": "code",
   "execution_count": 1,
   "metadata": {},
   "outputs": [],
   "source": [
    "import pandas as pd\n",
    "import re\n",
    "import matplotlib.pyplot as plt\n",
    "import seaborn as sns\n",
    "import nltk\n",
    "import sqlite3\n",
    "import gensim\n",
    "import numpy as np\n",
    "import requests"
   ]
  },
  {
   "cell_type": "markdown",
   "metadata": {},
   "source": [
    "# Table of Contents\n",
    "- [Question 1](#Question-1)\n",
    "- [Question 2](#Question-2)\n",
    "    - [2.a](#2.a)\n",
    "    - [2.b](#2.b)\n",
    "        - [Step 1](#Step-1)\n",
    "        - [Step 2](#Step-2)\n",
    "        - [Step 3](#Step-3)\n",
    "    - [2.c](#2.c)\n",
    "    - [2.d](#2.d)\n",
    "    - [2.e](#2.e)\n",
    "    - [2.f](#2.f)\n",
    "    - [2.g](#2.g)\n",
    "- [Question 3](#Question-3)\n",
    "- [Question 4](#Question-4)\n",
    "    - [4.a](#4.a)\n",
    "    - [4.b](#4.b)"
   ]
  },
  {
   "cell_type": "markdown",
   "metadata": {},
   "source": [
    "# Question 1"
   ]
  },
  {
   "cell_type": "code",
   "execution_count": 2,
   "metadata": {},
   "outputs": [],
   "source": [
    "def partial_sum(input_list):\n",
    "    \"\"\"\n",
    "    This function returns an array output where output[i] is the sum of all input numbers except input[i] \n",
    "    \"\"\"\n",
    "    output = []\n",
    "    for ii in range(len(input_list)):\n",
    "        output.append(sum(input_list[:ii] + input_list[ii+1:]))\n",
    "    return output"
   ]
  },
  {
   "cell_type": "code",
   "execution_count": 3,
   "metadata": {},
   "outputs": [],
   "source": [
    "assert partial_sum([1,2,3,4]) == [9,8,7,6]\n",
    "assert partial_sum([2,9,5,5,1]) == [20,13,17,17,21]"
   ]
  },
  {
   "cell_type": "markdown",
   "metadata": {},
   "source": [
    "# Question 2"
   ]
  },
  {
   "cell_type": "markdown",
   "metadata": {},
   "source": [
    "## 2.a"
   ]
  },
  {
   "cell_type": "code",
   "execution_count": 4,
   "metadata": {},
   "outputs": [],
   "source": [
    "postings = pd.read_csv(\"job_posts.csv\")"
   ]
  },
  {
   "cell_type": "code",
   "execution_count": 5,
   "metadata": {},
   "outputs": [
    {
     "data": {
      "text/html": [
       "<div>\n",
       "<style scoped>\n",
       "    .dataframe tbody tr th:only-of-type {\n",
       "        vertical-align: middle;\n",
       "    }\n",
       "\n",
       "    .dataframe tbody tr th {\n",
       "        vertical-align: top;\n",
       "    }\n",
       "\n",
       "    .dataframe thead th {\n",
       "        text-align: right;\n",
       "    }\n",
       "</style>\n",
       "<table border=\"1\" class=\"dataframe\">\n",
       "  <thead>\n",
       "    <tr style=\"text-align: right;\">\n",
       "      <th></th>\n",
       "      <th>jobpost</th>\n",
       "      <th>date</th>\n",
       "      <th>Title</th>\n",
       "      <th>Company</th>\n",
       "      <th>AnnouncementCode</th>\n",
       "      <th>Term</th>\n",
       "      <th>Eligibility</th>\n",
       "      <th>Audience</th>\n",
       "      <th>StartDate</th>\n",
       "      <th>Duration</th>\n",
       "      <th>...</th>\n",
       "      <th>Salary</th>\n",
       "      <th>ApplicationP</th>\n",
       "      <th>OpeningDate</th>\n",
       "      <th>Deadline</th>\n",
       "      <th>Notes</th>\n",
       "      <th>AboutC</th>\n",
       "      <th>Attach</th>\n",
       "      <th>Year</th>\n",
       "      <th>Month</th>\n",
       "      <th>IT</th>\n",
       "    </tr>\n",
       "  </thead>\n",
       "  <tbody>\n",
       "    <tr>\n",
       "      <th>0</th>\n",
       "      <td>AMERIA Investment Consulting Company\\r\\nJOB TI...</td>\n",
       "      <td>Jan 5, 2004</td>\n",
       "      <td>Chief Financial Officer</td>\n",
       "      <td>AMERIA Investment Consulting Company</td>\n",
       "      <td>NaN</td>\n",
       "      <td>NaN</td>\n",
       "      <td>NaN</td>\n",
       "      <td>NaN</td>\n",
       "      <td>NaN</td>\n",
       "      <td>NaN</td>\n",
       "      <td>...</td>\n",
       "      <td>NaN</td>\n",
       "      <td>To apply for this position, please submit a\\r\\...</td>\n",
       "      <td>NaN</td>\n",
       "      <td>26 January 2004</td>\n",
       "      <td>NaN</td>\n",
       "      <td>NaN</td>\n",
       "      <td>NaN</td>\n",
       "      <td>2004</td>\n",
       "      <td>1</td>\n",
       "      <td>False</td>\n",
       "    </tr>\n",
       "    <tr>\n",
       "      <th>1</th>\n",
       "      <td>International Research &amp; Exchanges Board (IREX...</td>\n",
       "      <td>Jan 7, 2004</td>\n",
       "      <td>Full-time Community Connections Intern (paid i...</td>\n",
       "      <td>International Research &amp; Exchanges Board (IREX)</td>\n",
       "      <td>NaN</td>\n",
       "      <td>NaN</td>\n",
       "      <td>NaN</td>\n",
       "      <td>NaN</td>\n",
       "      <td>NaN</td>\n",
       "      <td>3 months</td>\n",
       "      <td>...</td>\n",
       "      <td>NaN</td>\n",
       "      <td>Please submit a cover letter and resume to:\\r\\...</td>\n",
       "      <td>NaN</td>\n",
       "      <td>12 January 2004</td>\n",
       "      <td>NaN</td>\n",
       "      <td>The International Research &amp; Exchanges Board (...</td>\n",
       "      <td>NaN</td>\n",
       "      <td>2004</td>\n",
       "      <td>1</td>\n",
       "      <td>False</td>\n",
       "    </tr>\n",
       "    <tr>\n",
       "      <th>2</th>\n",
       "      <td>Caucasus Environmental NGO Network (CENN)\\r\\nJ...</td>\n",
       "      <td>Jan 7, 2004</td>\n",
       "      <td>Country Coordinator</td>\n",
       "      <td>Caucasus Environmental NGO Network (CENN)</td>\n",
       "      <td>NaN</td>\n",
       "      <td>NaN</td>\n",
       "      <td>NaN</td>\n",
       "      <td>NaN</td>\n",
       "      <td>NaN</td>\n",
       "      <td>Renewable annual contract\\r\\nPOSITION</td>\n",
       "      <td>...</td>\n",
       "      <td>NaN</td>\n",
       "      <td>Please send resume or CV toursula.kazarian@......</td>\n",
       "      <td>NaN</td>\n",
       "      <td>20 January 2004\\r\\nSTART DATE:  February 2004</td>\n",
       "      <td>NaN</td>\n",
       "      <td>The Caucasus Environmental NGO Network is a\\r\\...</td>\n",
       "      <td>NaN</td>\n",
       "      <td>2004</td>\n",
       "      <td>1</td>\n",
       "      <td>False</td>\n",
       "    </tr>\n",
       "    <tr>\n",
       "      <th>3</th>\n",
       "      <td>Manoff Group\\r\\nJOB TITLE:  BCC Specialist\\r\\n...</td>\n",
       "      <td>Jan 7, 2004</td>\n",
       "      <td>BCC Specialist</td>\n",
       "      <td>Manoff Group</td>\n",
       "      <td>NaN</td>\n",
       "      <td>NaN</td>\n",
       "      <td>NaN</td>\n",
       "      <td>NaN</td>\n",
       "      <td>NaN</td>\n",
       "      <td>NaN</td>\n",
       "      <td>...</td>\n",
       "      <td>NaN</td>\n",
       "      <td>Please send cover letter and resume to Amy\\r\\n...</td>\n",
       "      <td>NaN</td>\n",
       "      <td>23 January 2004\\r\\nSTART DATE:  Immediate</td>\n",
       "      <td>NaN</td>\n",
       "      <td>NaN</td>\n",
       "      <td>NaN</td>\n",
       "      <td>2004</td>\n",
       "      <td>1</td>\n",
       "      <td>False</td>\n",
       "    </tr>\n",
       "    <tr>\n",
       "      <th>4</th>\n",
       "      <td>Yerevan Brandy Company\\r\\nJOB TITLE:  Software...</td>\n",
       "      <td>Jan 10, 2004</td>\n",
       "      <td>Software Developer</td>\n",
       "      <td>Yerevan Brandy Company</td>\n",
       "      <td>NaN</td>\n",
       "      <td>NaN</td>\n",
       "      <td>NaN</td>\n",
       "      <td>NaN</td>\n",
       "      <td>NaN</td>\n",
       "      <td>NaN</td>\n",
       "      <td>...</td>\n",
       "      <td>NaN</td>\n",
       "      <td>Successful candidates should submit\\r\\n- CV; \\...</td>\n",
       "      <td>NaN</td>\n",
       "      <td>20 January 2004, 18:00</td>\n",
       "      <td>NaN</td>\n",
       "      <td>NaN</td>\n",
       "      <td>NaN</td>\n",
       "      <td>2004</td>\n",
       "      <td>1</td>\n",
       "      <td>True</td>\n",
       "    </tr>\n",
       "  </tbody>\n",
       "</table>\n",
       "<p>5 rows × 24 columns</p>\n",
       "</div>"
      ],
      "text/plain": [
       "                                             jobpost          date  \\\n",
       "0  AMERIA Investment Consulting Company\\r\\nJOB TI...   Jan 5, 2004   \n",
       "1  International Research & Exchanges Board (IREX...   Jan 7, 2004   \n",
       "2  Caucasus Environmental NGO Network (CENN)\\r\\nJ...   Jan 7, 2004   \n",
       "3  Manoff Group\\r\\nJOB TITLE:  BCC Specialist\\r\\n...   Jan 7, 2004   \n",
       "4  Yerevan Brandy Company\\r\\nJOB TITLE:  Software...  Jan 10, 2004   \n",
       "\n",
       "                                               Title  \\\n",
       "0                            Chief Financial Officer   \n",
       "1  Full-time Community Connections Intern (paid i...   \n",
       "2                                Country Coordinator   \n",
       "3                                     BCC Specialist   \n",
       "4                                 Software Developer   \n",
       "\n",
       "                                           Company AnnouncementCode Term  \\\n",
       "0             AMERIA Investment Consulting Company              NaN  NaN   \n",
       "1  International Research & Exchanges Board (IREX)              NaN  NaN   \n",
       "2        Caucasus Environmental NGO Network (CENN)              NaN  NaN   \n",
       "3                                     Manoff Group              NaN  NaN   \n",
       "4                           Yerevan Brandy Company              NaN  NaN   \n",
       "\n",
       "  Eligibility Audience StartDate                               Duration  ...  \\\n",
       "0         NaN      NaN       NaN                                    NaN  ...   \n",
       "1         NaN      NaN       NaN                               3 months  ...   \n",
       "2         NaN      NaN       NaN  Renewable annual contract\\r\\nPOSITION  ...   \n",
       "3         NaN      NaN       NaN                                    NaN  ...   \n",
       "4         NaN      NaN       NaN                                    NaN  ...   \n",
       "\n",
       "  Salary                                       ApplicationP OpeningDate  \\\n",
       "0    NaN  To apply for this position, please submit a\\r\\...         NaN   \n",
       "1    NaN  Please submit a cover letter and resume to:\\r\\...         NaN   \n",
       "2    NaN  Please send resume or CV toursula.kazarian@......         NaN   \n",
       "3    NaN  Please send cover letter and resume to Amy\\r\\n...         NaN   \n",
       "4    NaN  Successful candidates should submit\\r\\n- CV; \\...         NaN   \n",
       "\n",
       "                                        Deadline Notes  \\\n",
       "0                                26 January 2004   NaN   \n",
       "1                                12 January 2004   NaN   \n",
       "2  20 January 2004\\r\\nSTART DATE:  February 2004   NaN   \n",
       "3      23 January 2004\\r\\nSTART DATE:  Immediate   NaN   \n",
       "4                         20 January 2004, 18:00   NaN   \n",
       "\n",
       "                                              AboutC Attach  Year Month     IT  \n",
       "0                                                NaN    NaN  2004     1  False  \n",
       "1  The International Research & Exchanges Board (...    NaN  2004     1  False  \n",
       "2  The Caucasus Environmental NGO Network is a\\r\\...    NaN  2004     1  False  \n",
       "3                                                NaN    NaN  2004     1  False  \n",
       "4                                                NaN    NaN  2004     1   True  \n",
       "\n",
       "[5 rows x 24 columns]"
      ]
     },
     "execution_count": 5,
     "metadata": {},
     "output_type": "execute_result"
    }
   ],
   "source": [
    "postings.head()"
   ]
  },
  {
   "cell_type": "markdown",
   "metadata": {},
   "source": [
    "## 2.b"
   ]
  },
  {
   "cell_type": "code",
   "execution_count": 6,
   "metadata": {},
   "outputs": [],
   "source": [
    "jobposts = postings[\"jobpost\"]"
   ]
  },
  {
   "cell_type": "markdown",
   "metadata": {},
   "source": [
    "The jobposts seem to have the same structure for each entry. New \"headers\" are printed in all capital letters at the beginning of a line, followed by a colon. The steps to identify and extract the desired information are as follows:\n",
    "\n",
    "1. Search for all fully capitalized headers at the beginning of lines. This serves to identify variants, e.g. 'TITLE' vs. 'JOB TITLE'.\n",
    "2. Identify headers relevant to the information I want to extract and form groups of similar headers.\n",
    "3. Extract information from job posts based on the identified headers and potential subcategories."
   ]
  },
  {
   "cell_type": "code",
   "execution_count": 7,
   "metadata": {},
   "outputs": [
    {
     "name": "stdout",
     "output_type": "stream",
     "text": [
      "AMERIA Investment Consulting Company\n",
      "JOB TITLE:  Chief Financial Officer\n",
      "POSITION LOCATION: Yerevan, Armenia\n",
      "JOB DESCRIPTION:   AMERIA Investment Consulting Company is seeking a\n",
      "Chief Financial Officer. This position manages the company's fiscal and\n",
      "administrative functions, provides highly responsible and technically\n",
      "complex staff assistance to the Executive Director. The work performed\n",
      "requires a high level of technical proficiency in financial management\n",
      "and investment management, as well as management, supervisory, and\n",
      "administrative skills.\n",
      "JOB RESPONSIBILITIES:  \n",
      "- Supervises financial management and administrative staff, including\n",
      "assigning responsibilities, reviewing employees' work processes and\n",
      "products, counseling employees, giving performance evaluations, and\n",
      "recommending disciplinary action;\n",
      "- Serves as member of management team participating in both strategic\n",
      "and operational planning for the company;\n",
      "- Directs and oversees the company's financial management activities,\n",
      "including establishing and monitoring internal controls, managing cash\n",
      "and investments, and managing the investment portfolio in collaboration\n",
      "with the Investment team leader. This includes, but is not limited to,\n",
      "evaluation of investment risk, concentration risk, fund deployment\n",
      "levels, adequacy of loss and liquidity reserves Assists investment team\n",
      "in development of proper documentation and internal systems;\n",
      "- Directs and oversees the annual budgeting process, including\n",
      "developing projections for financial planning, and preparing budgets;\n",
      "- Prepares external and internal financial management reports, such as\n",
      "audited financial statements, tax returns, and reports for the board of\n",
      "directors and company staff;\n",
      "- Develops, implements, and maintains efficient and effective accounting\n",
      "systems and controls to ensure compliance with national and\n",
      "international accounting standards and principles, sufficiency of fund\n",
      "accounting, and comprehensiveness of data for reporting and compliance\n",
      "requirements;\n",
      "- Ensures contract compliance, including interpreting and monitoring\n",
      "contracts with clients, submitting required reports, and monitoring\n",
      "covenants and other contract terms;\n",
      "- Oversees the design, implementation and maintenance of computer-based\n",
      "information system. Oversees records retention (both manual and\n",
      "computer-based) and file maintenance activities;\n",
      "- Serves as company's risk manager, including evaluating loss exposure\n",
      "and obtaining insurance as appropriate;\n",
      "- Manages other administrative operations, such as facilities\n",
      "management, payroll administration, office operations, and\n",
      "administrative support;\n",
      "- Monitors corporate compliance with by-laws and articles of\n",
      "incorporation regarding corporate registration and reporting of\n",
      "fundraising operations.\n",
      "REQUIRED QUALIFICATIONS:  To perform this job successfully, an\n",
      "individual must be able to perform each essential duty satisfactorily.\n",
      "The requirements listed below are representative of the knowledge,\n",
      "skill, and/or ability required.\n",
      "Knowledge of:\n",
      "- Generally accepted accounting principles;\n",
      "- Local accounting standards and legislation;\n",
      "- State reporting requirements pertaining to accounting;\n",
      "- Principles and practices of financial management and budgeting;\n",
      "- Principles and practices of financial systems design and analysis;\n",
      "- Principles and practices of contract management, records management,\n",
      "and risk management;\n",
      "- Principles and practices of management and supervision;\n",
      "- Principles and practices of information systems management.\n",
      "Ability to:\n",
      "- Apply sound fiscal and administrative practices to the company's\n",
      "activities;\n",
      "- Plan, organize and supervise the work of subordinate employees,\n",
      "including training them, assigning and evaluating their work, and\n",
      "providing job performance feedback;\n",
      "- Critically analyze fiscal and administrative policies, practices,\n",
      "procedures, and systems, and recommend and implement changes as needed;\n",
      "- Gather and synthesize financial information from a variety of sources\n",
      "and present it to a variety of audiences with differing financial\n",
      "management and analysis expertise;\n",
      "- Prepare detailed, comprehensive financial reports, including\n",
      "explanatory text;\n",
      "- Operate IBM-compatible personal computer, including word processing,\n",
      "spreadsheet, and database software applications;\n",
      "- Operate specialized software applications that support the financial\n",
      "management and budgeting functions.\n",
      "Qualifications:\n",
      "- A minimum of 5-7 years Accounting/ Corporate Finance/ Banking\n",
      "experience, including a role as a CFO;\n",
      "- Excellent finance and accounting technical skills coupled with a\n",
      "demonstrated knowledge of all key financial functions in an consulting\n",
      "company context - accounting, finance, control, treasury, reserving, and\n",
      "reporting;\n",
      "- Strong financial planning and analytical skills and experience and the\n",
      "ability to work closely with and support the CEO and other executives in\n",
      "strategic development and implementation;\n",
      "- Excellent leadership, management and supervisory track record of\n",
      "attracting, selecting, developing, rewarding and retaining high-caliber,\n",
      "accounting and finance executive and teams who achieve business goals;\n",
      "- An undergraduate degree in finance, business, or other related\n",
      "discipline is required. A CPA, CFA, ACCA or other financial\n",
      "certification is highly preferred, as is a Masters degree in Business\n",
      "Administration, Accounting or Finance;\n",
      "- Fluency in English, Armenian and Russian with outstanding writing\n",
      "skills;\n",
      "- Excellent analytical, communication, teamwork, interpersonal skills;\n",
      "- Need to be well organized and detail-oriented as well as goal/ result\n",
      "driven and able to deal with complex issues.\n",
      "APPLICATION PROCEDURES:  To apply for this position, please submit a\n",
      "cover letter and a resume addressing relevant qualifications and\n",
      "experience and information on professional reference strictly to Tatevik\n",
      "Hovhannisyan; Executive Assistant: fax: 374-1-546800 or e-mail:ameria@.... Tel: 374 (1) 524040; 524140. Only shortlisted\n",
      "candidates will be notified for an interview.\n",
      "Please clearly mention in your application letter that you learned of\n",
      "this job opportunity through Career Center and mention the URL of its\n",
      "website - www.careercenter.am, Thanks.\n",
      "APPLICATION DEADLINE:   26 January 2004\n",
      "----------------------------------\n",
      "To place a free posting for job or other career related opportunities in\n",
      "your organization at careercenter.am website, e-mail us atmailbox@...\n"
     ]
    }
   ],
   "source": [
    "print(jobposts[0])"
   ]
  },
  {
   "cell_type": "markdown",
   "metadata": {},
   "source": [
    "### Step 1"
   ]
  },
  {
   "cell_type": "code",
   "execution_count": 8,
   "metadata": {},
   "outputs": [],
   "source": [
    "# Extract all capitalized headers in the job postings that start on a new line\n",
    "all_headers = [re.findall(pattern=\"\\n([A-Z /]+):\", string=entry) for entry in jobposts]"
   ]
  },
  {
   "cell_type": "code",
   "execution_count": 9,
   "metadata": {},
   "outputs": [
    {
     "name": "stdout",
     "output_type": "stream",
     "text": [
      "ABOUT\n",
      "ABOUT CHAMPIONSHIP\n",
      "ABOUT COMPANY\n",
      "ABOUT PROGRAM\n",
      "ABOUT PROGRAM/ PROJECT\n",
      "ABOUT PROJECT\n",
      "ABOUT THE SPEAKER\n",
      "ADDITIONAL CHARACTERISTICS\n",
      "ADDITIONAL COMPETENCIES\n",
      "ADDITIONAL DESIRED CHARACTERISTICS\n",
      "ADDITIONAL NOTES\n",
      "ADDITIONAL RESPONSIBILITIES\n",
      "ADDITIONAL SELECTION CRITEREA\n",
      "ADDITIONAL SELECTION CRITERIA\n",
      "ADMINISTRATIVE DUTIES\n",
      "AEFM\n",
      "ANNOUNCEMENT CODE\n",
      "ANNOUNCEMENT NUMBER\n",
      "APPLICATION DEADLINE\n",
      "APPLICATION PROCEDURES\n",
      "ATTACHMENTS\n",
      "AUTHOR\n",
      "BACKGROUND\n",
      "BASIC FUNCTION OF THE POSITION\n",
      "COMMUNICATIONS\n",
      "COMPETENCIES\n",
      "CONTACT INFORMATION\n",
      "CORPORATE COMPETENCIES\n",
      "COURSE OVERVIEW\n",
      "CRITERIA\n",
      "DATE/ TIME\n",
      "DEFINITION\n",
      "DEFINITIONS\n",
      "DESCRIPTION\n",
      "DESIRABLE COMPETENCIES\n",
      "DESIRABLE EXPERIENCE\n",
      "DESIRABLE QUALIFICATIONS\n",
      "DESIRED QUALIFICATION\n",
      "DESIRED QUALIFICATIONS\n",
      "DESIRED SKILLS\n",
      "DESIRED SKILLS AND KNOWLEDGE\n",
      "DETAIL DESCRIPTION\n",
      "DISTINGUISHING FEATURES\n",
      "DNS\n",
      "DOMAIN KNOWLEDGE\n",
      "DURATION\n",
      "EDUCATION TYPE\n",
      "EDUCATION/ EXPERIENCE\n",
      "EDUCATIONAL LEVEL\n",
      "EFM/MOH/NOR\n",
      "ELIGIBILITY\n",
      "ENROLLMENT\n",
      "ESSENTIAL SPECIALIZED SKILLS/ KNOWLEDGE/ COMPETENCIES\n",
      "EU CONTRACT NUMBER\n",
      "EVENT TYPE\n",
      "FAX\n",
      "FEE\n",
      "FELLOWSHIP TYPE\n",
      "FTP\n",
      "FUNCTIONAL COMPETENCIES\n",
      "FUNCTIONAL TITLE\n",
      "GIK\n",
      "GRADE LEVEL\n",
      "IMPACT OF RESULTS\n",
      "INSTRUCTOR\n",
      "INSTRUCTORS\n",
      "INTENDED AUDIENCE\n",
      "IP\n",
      "IT\n",
      "JOB DESCRIPTION\n",
      "JOB RESPONSIBILITIES\n",
      "JOB TITLE\n",
      "KEY COMPETENCIES\n",
      "LANGUAGE\n",
      "LOCATION\n",
      "MEAL\n",
      "MEL\n",
      "METHODOLOGY\n",
      "MMT PROJECT DESCRIPTION\n",
      "NB\n",
      "NEWS DETAILS\n",
      "NEWS TYPE\n",
      "NKRJOB DESCRIPTION\n",
      "NOMINATION GUIDELINES\n",
      "NOTE\n",
      "NOTICE\n",
      "OBJECTIVE\n",
      "OCCASIONAL SIGNIFICANT DUTIES\n",
      "OPEN TO\n",
      "OPEN TO/ ELIGIBILITY CRITERIA\n",
      "OPENING DATE\n",
      "OSCE\n",
      "OTHER RESPONSIBILITIES\n",
      "OTHER SKILLS\n",
      "PAGES\n",
      "PANELISTS\n",
      "PARTICIPATION FEE\n",
      "PLEASE NOTE\n",
      "POINT OF CONTACT\n",
      "POSITION DURATION\n",
      "POSITION LOCATION\n",
      "PREFERENCES\n",
      "PREFERRED ADDITIONAL CRITERIA\n",
      "PREFERRED QUALIFICATIONS\n",
      "PROFESSIONAL SKILLS\n",
      "PROJECT DESCRIPTION\n",
      "PROJECT DURATION\n",
      "PROJECT LOCATION\n",
      "PUBLICATION DATE\n",
      "PUBLICATION TYPE\n",
      "PURPOSE OF THE AWARD\n",
      "RA\n",
      "REFERENCE CODE\n",
      "REGISTRATION AND PAYMENT IN PERSON\n",
      "RELOCATION PACKAGE\n",
      "REMUNERATION\n",
      "REMUNERATION/ SALARY\n",
      "REPORTING REQUIREMENTS\n",
      "REPORTS TO\n",
      "REQUIRED QUALIFICATIONS\n",
      "REQUIREMENTS\n",
      "RESPONSIBILITIES\n",
      "SALARY\n",
      "SCHEDULE\n",
      "SCHOLARSHIP TYPE\n",
      "SECTIONS\n",
      "SELECTION PROCEDURES\n",
      "SELECTION PROCESS\n",
      "SKILLS\n",
      "SKILLS/KNOWLEDGE\n",
      "SPECIAL COURSES\n",
      "SPECIAL REQUIREMENTS\n",
      "SPECIFIC JOB REQUIREMENTS\n",
      "SPECIFY JOB CODE\n",
      "SSH\n",
      "START DATE\n",
      "START DATE/ TIME\n",
      "SUPERVISES\n",
      "SYLLABUS OUTLINE\n",
      "TERM\n",
      "THE FOLLOWING BENEFITS\n",
      "TITLE\n",
      "TOTAL\n",
      "TRAINERS\n",
      "UNDP\n",
      "URL\n",
      "USA\n",
      "WORK EXPERIENCE\n",
      "WORK HOURS\n",
      "WORKSHOP LEADERS\n",
      "XML\n"
     ]
    }
   ],
   "source": [
    "# Look at all unique headers\n",
    "all_headers_set = set([item for sublist in all_headers for item in sublist])\n",
    "for header in sorted(all_headers_set):\n",
    "    print(header)"
   ]
  },
  {
   "cell_type": "markdown",
   "metadata": {},
   "source": [
    "I can ensure that my approach is suitable by showing that most of the job postings are in the format I expect. The following barplot shows the number of headers per job posting. The vast majority of job postings adhere to this format, i.e. capitalized headers at the beginning of lines, followed by a colon."
   ]
  },
  {
   "cell_type": "code",
   "execution_count": 10,
   "metadata": {},
   "outputs": [
    {
     "data": {
      "image/png": "[encoded data removed]",
      "text/plain": [
       "<Figure size 432x288 with 1 Axes>"
      ]
     },
     "metadata": {
      "needs_background": "light"
     },
     "output_type": "display_data"
    }
   ],
   "source": [
    "sns.countplot([len(x) for x in all_headers], color=\"grey\")\n",
    "plt.yscale(\"log\")"
   ]
  },
  {
   "cell_type": "code",
   "execution_count": 11,
   "metadata": {},
   "outputs": [
    {
     "name": "stdout",
     "output_type": "stream",
     "text": [
      "99.73% of job postings have at least 5 headers as defined above.\n"
     ]
    }
   ],
   "source": [
    "print(\"{:.2f}% of job postings have at least 5 headers as defined above.\".format(\n",
    "    sum([len(x) > 5 for x in all_headers]) * 100 / len(all_headers)))"
   ]
  },
  {
   "cell_type": "markdown",
   "metadata": {},
   "source": [
    "### Step 2\n",
    "The next step requires some manual work to find symonyms for the information I'm interested in extracting from the jobposts column. The following dictionary summarizes synonyms I've identified based on the list above."
   ]
  },
  {
   "cell_type": "code",
   "execution_count": 12,
   "metadata": {},
   "outputs": [],
   "source": [
    "synonyms = {\n",
    "    \"job_title\": [\"JOB TITLE\", \"TITLE\"],\n",
    "    \"position_duration\": [\"POSITION DURATION\", \"DURATION\"],\n",
    "    \"position_location\": [\"POSITION LOCATION\", \"LOCATION\"],\n",
    "    \"job_description\": [\n",
    "        \"JOB DESCRIPTION\", \"NKRJOB DESCRIPTION\", \"DESCRIPTION\", \"MMT PROJECT DESCRIPTION\", \n",
    "        \"DETAIL DESCRIPTION\", \"PROJECT DESCRIPTION\"],\n",
    "    \"job_responsibilities\": [\"RESPONSIBILITIES\", \"JOB RESPONSIBILITIES\"],\n",
    "    \"required_qualifications\": [\"REQUIRED QUALIFICATIONS\", \"REQUIREMENTS\"], \n",
    "    \"remuneration\": [\"REMUNERATION/ SALARY\", \"REMUNERATION\", \"SALARY\"],\n",
    "    \"application_deadline\": [\"APPLICATION DEADLINE\"],\n",
    "    \"about_company\": [\"ABOUT COMPANY\", \"ABOUT\"]}"
   ]
  },
  {
   "cell_type": "markdown",
   "metadata": {},
   "source": [
    "For the most part, these synonyms are mutually exclusive in job postings and therefor post no issue regarding overlaps. The exception are the job_description and the about_company fields. In these cases, the order of possible headers indicates their priority, e.g. if a job posting has both a \"JOB DESCRIPTION\" and a \"DETAIL DESCRIPTION\" field then the latter is ignored. However, if it only has a \"DETAIL DESCRIPTION\" field then it is interpreted as the job description.\n",
    "\n",
    "A special note on required qualifications: Many job postings have additional categories, such as \"PREFERRED QUALIFICATIONS\", or \"DESIRABLE COMPETENCIES\". Whether or not to include these in the required qualifications information is debatable. To avoid this issue, both here and when extracting information, I will be strict with this category. That means any header that implies \"additional requirements\" will be treated as an independent category. An entirely separate project could be dedicated to identifying and prioritizing requirements based on the category headers."
   ]
  },
  {
   "cell_type": "code",
   "execution_count": 13,
   "metadata": {},
   "outputs": [
    {
     "name": "stdout",
     "output_type": "stream",
     "text": [
      "No overlaps for job_title\n",
      "No overlaps for position_duration\n",
      "No overlaps for position_location\n",
      "3 overlaps for job_description\n",
      "No overlaps for job_responsibilities\n",
      "No overlaps for required_qualifications\n",
      "No overlaps for remuneration\n",
      "No overlaps for application_deadline\n",
      "535 overlaps for about_company\n"
     ]
    }
   ],
   "source": [
    "for key in synonyms.keys():\n",
    "    num_overlaps = len([\n",
    "        headers for headers in all_headers if \n",
    "        len(set(synonyms[key]).intersection(set(headers))) > 1])\n",
    "    if num_overlaps == 0:\n",
    "        print(\"No overlaps for {}\".format(key))\n",
    "    else:\n",
    "        print(\"{} overlaps for {}\".format(num_overlaps, key))"
   ]
  },
  {
   "cell_type": "markdown",
   "metadata": {},
   "source": [
    "### Step 3\n",
    "Splitting each job posting is a matter of extracting text between the header of interest, or synonyms thereof, and the next header. This is a problem, however, as job postings may include \"subcategories\", e.g. they may group job requirements into different skill groups that I still want to all extract. To solve this problem, I identify all potential subsequent headers for each header of interest and remove those that indicate a subcategory.\n",
    "\n",
    "Subsequent means headers that are between two of the primary fields of interest defined above in `synonyms`.\n",
    "\n",
    "The following dictionary describes the potential \"end-points\" of each category of interest. E.g. When extracting job description information, the program needs to know how to react when it reaches one of the headers detailed below. Does it include it in the job description or does it end the mining and assume it has extracted the complete job description?"
   ]
  },
  {
   "cell_type": "code",
   "execution_count": 14,
   "metadata": {},
   "outputs": [],
   "source": [
    "def get_synonym_index(to_check, to_find):\n",
    "    \"\"\"\n",
    "    A generic function that identifies if the list 'to_check' contains at least one of the \n",
    "    values in 'to_find'. It returns the index of the first value found\n",
    "    \n",
    "    :param to_check: An iterable\n",
    "    :param synonyms: An iterable\n",
    "    \"\"\"\n",
    "    \n",
    "    for possible_header in to_find:\n",
    "        if possible_header in to_check:\n",
    "            return to_check.index(possible_header)        \n",
    "    return None"
   ]
  },
  {
   "cell_type": "code",
   "execution_count": 15,
   "metadata": {},
   "outputs": [],
   "source": [
    "subsequent_headers = {key: set() for key in synonyms.keys()}\n",
    "for key in synonyms.keys():\n",
    "    for headers in all_headers:\n",
    "        synonym_index = get_synonym_index(headers, synonyms[key])\n",
    "        if synonym_index is None:\n",
    "            continue\n",
    "        \n",
    "        if synonym_index == len(headers)-1:\n",
    "            continue\n",
    "        \n",
    "        for h in headers[synonym_index+1:]:\n",
    "            if h in [item for sublist in synonyms.values() for item in sublist]:\n",
    "                break\n",
    "            subsequent_headers[key].add(h)"
   ]
  },
  {
   "cell_type": "code",
   "execution_count": 16,
   "metadata": {},
   "outputs": [
    {
     "data": {
      "text/plain": [
       "{'job_title': {'ANNOUNCEMENT CODE',\n",
       "  'APPLICATION PROCEDURES',\n",
       "  'AUTHOR',\n",
       "  'DATE/ TIME',\n",
       "  'EDUCATION TYPE',\n",
       "  'ELIGIBILITY',\n",
       "  'EVENT TYPE',\n",
       "  'FELLOWSHIP TYPE',\n",
       "  'FUNCTIONAL TITLE',\n",
       "  'INTENDED AUDIENCE',\n",
       "  'LANGUAGE',\n",
       "  'NEWS TYPE',\n",
       "  'NOMINATION GUIDELINES',\n",
       "  'NOTE',\n",
       "  'OPEN TO',\n",
       "  'OPEN TO/ ELIGIBILITY CRITERIA',\n",
       "  'PAGES',\n",
       "  'PROJECT DURATION',\n",
       "  'PROJECT LOCATION',\n",
       "  'PUBLICATION DATE',\n",
       "  'PUBLICATION TYPE',\n",
       "  'PURPOSE OF THE AWARD',\n",
       "  'REFERENCE CODE',\n",
       "  'REPORTS TO',\n",
       "  'SCHOLARSHIP TYPE',\n",
       "  'SPECIFY JOB CODE',\n",
       "  'START DATE/ TIME',\n",
       "  'TERM',\n",
       "  'THE FOLLOWING BENEFITS',\n",
       "  'WORK HOURS'},\n",
       " 'position_duration': set(),\n",
       " 'position_location': {'ADDITIONAL NOTES',\n",
       "  'APPLICATION PROCEDURES',\n",
       "  'ATTACHMENTS',\n",
       "  'AUTHOR',\n",
       "  'ENROLLMENT',\n",
       "  'NEWS DETAILS',\n",
       "  'WORK HOURS'},\n",
       " 'job_description': {'ABOUT THE SPEAKER',\n",
       "  'APPLICATION PROCEDURES',\n",
       "  'BASIC FUNCTION OF THE POSITION',\n",
       "  'DEFINITION',\n",
       "  'DISTINGUISHING FEATURES',\n",
       "  'EDUCATIONAL LEVEL',\n",
       "  'FAX',\n",
       "  'FEE',\n",
       "  'GRADE LEVEL',\n",
       "  'INSTRUCTOR',\n",
       "  'INSTRUCTORS',\n",
       "  'METHODOLOGY',\n",
       "  'NOTE',\n",
       "  'OPENING DATE',\n",
       "  'PANELISTS',\n",
       "  'PARTICIPATION FEE',\n",
       "  'REPORTS TO',\n",
       "  'SCHEDULE',\n",
       "  'SECTIONS',\n",
       "  'SPECIAL COURSES',\n",
       "  'SUPERVISES',\n",
       "  'SYLLABUS OUTLINE',\n",
       "  'TRAINERS',\n",
       "  'URL',\n",
       "  'WORKSHOP LEADERS'},\n",
       " 'job_responsibilities': {'ADDITIONAL RESPONSIBILITIES',\n",
       "  'ADMINISTRATIVE DUTIES',\n",
       "  'APPLICATION PROCEDURES',\n",
       "  'DESIRED QUALIFICATIONS',\n",
       "  'GIK',\n",
       "  'IMPACT OF RESULTS',\n",
       "  'IP',\n",
       "  'IT',\n",
       "  'MEAL',\n",
       "  'MEL',\n",
       "  'NOTE',\n",
       "  'OCCASIONAL SIGNIFICANT DUTIES',\n",
       "  'OTHER RESPONSIBILITIES',\n",
       "  'SPECIFIC JOB REQUIREMENTS'},\n",
       " 'required_qualifications': {'ADDITIONAL CHARACTERISTICS',\n",
       "  'ADDITIONAL COMPETENCIES',\n",
       "  'ADDITIONAL DESIRED CHARACTERISTICS',\n",
       "  'ADDITIONAL SELECTION CRITEREA',\n",
       "  'ADDITIONAL SELECTION CRITERIA',\n",
       "  'APPLICATION PROCEDURES',\n",
       "  'COMMUNICATIONS',\n",
       "  'COMPETENCIES',\n",
       "  'CORPORATE COMPETENCIES',\n",
       "  'COURSE OVERVIEW',\n",
       "  'DESIRABLE COMPETENCIES',\n",
       "  'DESIRABLE EXPERIENCE',\n",
       "  'DESIRABLE QUALIFICATIONS',\n",
       "  'DESIRED QUALIFICATION',\n",
       "  'DESIRED QUALIFICATIONS',\n",
       "  'DESIRED SKILLS',\n",
       "  'DESIRED SKILLS AND KNOWLEDGE',\n",
       "  'DNS',\n",
       "  'DOMAIN KNOWLEDGE',\n",
       "  'EDUCATION/ EXPERIENCE',\n",
       "  'ESSENTIAL SPECIALIZED SKILLS/ KNOWLEDGE/ COMPETENCIES',\n",
       "  'FTP',\n",
       "  'FUNCTIONAL COMPETENCIES',\n",
       "  'KEY COMPETENCIES',\n",
       "  'NB',\n",
       "  'NOTE',\n",
       "  'OPENING DATE',\n",
       "  'OTHER SKILLS',\n",
       "  'PLEASE NOTE',\n",
       "  'PREFERENCES',\n",
       "  'PREFERRED ADDITIONAL CRITERIA',\n",
       "  'PREFERRED QUALIFICATIONS',\n",
       "  'PROFESSIONAL SKILLS',\n",
       "  'REGISTRATION AND PAYMENT IN PERSON',\n",
       "  'REPORTING REQUIREMENTS',\n",
       "  'SELECTION PROCEDURES',\n",
       "  'SELECTION PROCESS',\n",
       "  'SKILLS',\n",
       "  'SKILLS/KNOWLEDGE',\n",
       "  'SPECIAL REQUIREMENTS',\n",
       "  'SSH',\n",
       "  'TOTAL',\n",
       "  'URL',\n",
       "  'WORK EXPERIENCE',\n",
       "  'XML'},\n",
       " 'remuneration': {'ADDITIONAL SELECTION CRITERIA',\n",
       "  'APPLICATION PROCEDURES',\n",
       "  'DEFINITIONS',\n",
       "  'EFM/MOH/NOR',\n",
       "  'FAX',\n",
       "  'OPENING DATE',\n",
       "  'POINT OF CONTACT',\n",
       "  'RELOCATION PACKAGE',\n",
       "  'SELECTION PROCESS'},\n",
       " 'application_deadline': {'ABOUT CHAMPIONSHIP',\n",
       "  'ABOUT PROGRAM',\n",
       "  'ABOUT PROGRAM/ PROJECT',\n",
       "  'ABOUT PROJECT',\n",
       "  'ADDITIONAL NOTES',\n",
       "  'ATTACHMENTS',\n",
       "  'START DATE'},\n",
       " 'about_company': {'ABOUT PROGRAM/ PROJECT',\n",
       "  'ADDITIONAL NOTES',\n",
       "  'AEFM',\n",
       "  'ATTACHMENTS',\n",
       "  'BACKGROUND',\n",
       "  'CONTACT INFORMATION',\n",
       "  'EU CONTRACT NUMBER',\n",
       "  'NOTICE',\n",
       "  'OBJECTIVE',\n",
       "  'OSCE',\n",
       "  'RA',\n",
       "  'TOTAL',\n",
       "  'UNDP',\n",
       "  'URL',\n",
       "  'USA'}}"
      ]
     },
     "execution_count": 16,
     "metadata": {},
     "output_type": "execute_result"
    }
   ],
   "source": [
    "subsequent_headers"
   ]
  },
  {
   "cell_type": "markdown",
   "metadata": {},
   "source": [
    "The goal now is to identify which of these headers are separate categories and which are subcategories of our fields of interest. First, a subcategory header must always appear in the same place, ergo if a header is present multiple times in the dictionary above, it cannot be a subcategory."
   ]
  },
  {
   "cell_type": "code",
   "execution_count": 17,
   "metadata": {},
   "outputs": [],
   "source": [
    "all_subsequent_headers = [item for sublist in subsequent_headers.values() for item in sublist]\n",
    "duplicate_subsequent_headers = set([\n",
    "    header for header in set(all_subsequent_headers) \n",
    "    if all_subsequent_headers.count(header) > 1])\n",
    "for key in subsequent_headers.keys():\n",
    "    subsequent_headers[key].difference_update(duplicate_subsequent_headers)"
   ]
  },
  {
   "cell_type": "code",
   "execution_count": 18,
   "metadata": {},
   "outputs": [
    {
     "data": {
      "text/plain": [
       "{'job_title': {'ANNOUNCEMENT CODE',\n",
       "  'DATE/ TIME',\n",
       "  'EDUCATION TYPE',\n",
       "  'ELIGIBILITY',\n",
       "  'EVENT TYPE',\n",
       "  'FELLOWSHIP TYPE',\n",
       "  'FUNCTIONAL TITLE',\n",
       "  'INTENDED AUDIENCE',\n",
       "  'LANGUAGE',\n",
       "  'NEWS TYPE',\n",
       "  'NOMINATION GUIDELINES',\n",
       "  'OPEN TO',\n",
       "  'OPEN TO/ ELIGIBILITY CRITERIA',\n",
       "  'PAGES',\n",
       "  'PROJECT DURATION',\n",
       "  'PROJECT LOCATION',\n",
       "  'PUBLICATION DATE',\n",
       "  'PUBLICATION TYPE',\n",
       "  'PURPOSE OF THE AWARD',\n",
       "  'REFERENCE CODE',\n",
       "  'SCHOLARSHIP TYPE',\n",
       "  'SPECIFY JOB CODE',\n",
       "  'START DATE/ TIME',\n",
       "  'TERM',\n",
       "  'THE FOLLOWING BENEFITS'},\n",
       " 'position_duration': set(),\n",
       " 'position_location': {'ENROLLMENT', 'NEWS DETAILS'},\n",
       " 'job_description': {'ABOUT THE SPEAKER',\n",
       "  'BASIC FUNCTION OF THE POSITION',\n",
       "  'DEFINITION',\n",
       "  'DISTINGUISHING FEATURES',\n",
       "  'EDUCATIONAL LEVEL',\n",
       "  'FEE',\n",
       "  'GRADE LEVEL',\n",
       "  'INSTRUCTOR',\n",
       "  'INSTRUCTORS',\n",
       "  'METHODOLOGY',\n",
       "  'PANELISTS',\n",
       "  'PARTICIPATION FEE',\n",
       "  'SCHEDULE',\n",
       "  'SECTIONS',\n",
       "  'SPECIAL COURSES',\n",
       "  'SUPERVISES',\n",
       "  'SYLLABUS OUTLINE',\n",
       "  'TRAINERS',\n",
       "  'WORKSHOP LEADERS'},\n",
       " 'job_responsibilities': {'ADDITIONAL RESPONSIBILITIES',\n",
       "  'ADMINISTRATIVE DUTIES',\n",
       "  'GIK',\n",
       "  'IMPACT OF RESULTS',\n",
       "  'IP',\n",
       "  'IT',\n",
       "  'MEAL',\n",
       "  'MEL',\n",
       "  'OCCASIONAL SIGNIFICANT DUTIES',\n",
       "  'OTHER RESPONSIBILITIES',\n",
       "  'SPECIFIC JOB REQUIREMENTS'},\n",
       " 'required_qualifications': {'ADDITIONAL CHARACTERISTICS',\n",
       "  'ADDITIONAL COMPETENCIES',\n",
       "  'ADDITIONAL DESIRED CHARACTERISTICS',\n",
       "  'ADDITIONAL SELECTION CRITEREA',\n",
       "  'COMMUNICATIONS',\n",
       "  'COMPETENCIES',\n",
       "  'CORPORATE COMPETENCIES',\n",
       "  'COURSE OVERVIEW',\n",
       "  'DESIRABLE COMPETENCIES',\n",
       "  'DESIRABLE EXPERIENCE',\n",
       "  'DESIRABLE QUALIFICATIONS',\n",
       "  'DESIRED QUALIFICATION',\n",
       "  'DESIRED SKILLS',\n",
       "  'DESIRED SKILLS AND KNOWLEDGE',\n",
       "  'DNS',\n",
       "  'DOMAIN KNOWLEDGE',\n",
       "  'EDUCATION/ EXPERIENCE',\n",
       "  'ESSENTIAL SPECIALIZED SKILLS/ KNOWLEDGE/ COMPETENCIES',\n",
       "  'FTP',\n",
       "  'FUNCTIONAL COMPETENCIES',\n",
       "  'KEY COMPETENCIES',\n",
       "  'NB',\n",
       "  'OTHER SKILLS',\n",
       "  'PLEASE NOTE',\n",
       "  'PREFERENCES',\n",
       "  'PREFERRED ADDITIONAL CRITERIA',\n",
       "  'PREFERRED QUALIFICATIONS',\n",
       "  'PROFESSIONAL SKILLS',\n",
       "  'REGISTRATION AND PAYMENT IN PERSON',\n",
       "  'REPORTING REQUIREMENTS',\n",
       "  'SELECTION PROCEDURES',\n",
       "  'SKILLS',\n",
       "  'SKILLS/KNOWLEDGE',\n",
       "  'SPECIAL REQUIREMENTS',\n",
       "  'SSH',\n",
       "  'WORK EXPERIENCE',\n",
       "  'XML'},\n",
       " 'remuneration': {'DEFINITIONS',\n",
       "  'EFM/MOH/NOR',\n",
       "  'POINT OF CONTACT',\n",
       "  'RELOCATION PACKAGE'},\n",
       " 'application_deadline': {'ABOUT CHAMPIONSHIP',\n",
       "  'ABOUT PROGRAM',\n",
       "  'ABOUT PROJECT',\n",
       "  'START DATE'},\n",
       " 'about_company': {'AEFM',\n",
       "  'BACKGROUND',\n",
       "  'CONTACT INFORMATION',\n",
       "  'EU CONTRACT NUMBER',\n",
       "  'NOTICE',\n",
       "  'OBJECTIVE',\n",
       "  'OSCE',\n",
       "  'RA',\n",
       "  'UNDP',\n",
       "  'USA'}}"
      ]
     },
     "execution_count": 18,
     "metadata": {},
     "output_type": "execute_result"
    }
   ],
   "source": [
    "subsequent_headers"
   ]
  },
  {
   "cell_type": "markdown",
   "metadata": {},
   "source": [
    "Manually parsing the above dictionary leads to the following subcategory headers:"
   ]
  },
  {
   "cell_type": "code",
   "execution_count": 19,
   "metadata": {},
   "outputs": [],
   "source": [
    "subcategories = {key: [] for key in synonyms.keys()}\n",
    "subcategories[\"job_description\"] = [\"BASIC FUNCTION OF THE POSITION\"]\n",
    "subcategories[\"job_responsibilities\"] = [\n",
    "    \"ADDITIONAL RESPONSIBILITIES\", \"ADMINISTRATIVE DUTIES\", \n",
    "    \"GIK\", \"IP\", \"IT\", \"MEAL\", \"MEL\", \"OCCASIONAL SIGNIFICANT DUTIES\", \n",
    "    \"OTHER RESPONSIBILITIES\", \"SPECIFIC JOB REQUIREMENTS\"],\n",
    "subcategories[\"required_qualifications\"] = [\n",
    "    \"COMMUNICATIONS\", \"CORPORATE COMPETENCIES\", \"DNS\", \"DOMAIN KNOWLEDGE\",\n",
    "    \"EDUCATION/ EXPERIENCE\", \"ESSENTIAL SPECIALIZED SKILLS/ KNOWLEDGE/ COMPETENCIES\", \n",
    "    \"FTP\", \"FUNCTIONAL COMPETENCIES\", \"KEY COMPETENCIES\", \"OTHER SKILLS\", \n",
    "    \"PROFESSIONAL SKILLS\", \"SKILLS\", \"SKILLS/KNOWLEDGE\", \"SPECIAL REQUIREMENTS\", \n",
    "    \"SSH\", \"WORK EXPERIENCE\", \"XML\"],\n",
    "subcategories[\"about_company\"] = [\"RA\", \"UNDP\", \"USA\"]"
   ]
  },
  {
   "cell_type": "markdown",
   "metadata": {},
   "source": [
    "Lastly, I loop through each job post to extract the text corresponding to each header, making sure to ignore the subcategory headers identified above. I extract the specific headers now and avoid the restriction that a header must be at the beginning of a line."
   ]
  },
  {
   "cell_type": "code",
   "execution_count": 20,
   "metadata": {},
   "outputs": [],
   "source": [
    "jobposts_parsed = []\n",
    "for index, jobpost in enumerate(jobposts):\n",
    "    jobpost_parsed = {key: None for key in synonyms.keys()}\n",
    "    headers = all_headers[index]\n",
    "    for key in synonyms.keys():\n",
    "        header_index = get_synonym_index(headers, synonyms[key])\n",
    "        if header_index is None:\n",
    "            continue\n",
    "        header = headers[header_index]\n",
    "        start_position = re.search(string=jobpost, pattern=header+\":\").end()\n",
    "        # Go through the remaining headers until we reach one that isn't a permitted \n",
    "        # subcategory. This header marks the end of the current category.\n",
    "        next_category = [h for h in headers[header_index+1:] if h not in subcategories[key]]\n",
    "        end_position = re.search(string=jobpost, pattern=next_category[0]).start() if len(next_category) > 0 else len(jobpost)\n",
    "        jobpost_parsed[key] = jobpost[start_position:end_position].strip()\n",
    "    jobposts_parsed.append(jobpost_parsed)\n",
    "jobposts_parsed = pd.DataFrame(jobposts_parsed)"
   ]
  },
  {
   "cell_type": "code",
   "execution_count": 21,
   "metadata": {},
   "outputs": [
    {
     "data": {
      "text/html": [
       "<div>\n",
       "<style scoped>\n",
       "    .dataframe tbody tr th:only-of-type {\n",
       "        vertical-align: middle;\n",
       "    }\n",
       "\n",
       "    .dataframe tbody tr th {\n",
       "        vertical-align: top;\n",
       "    }\n",
       "\n",
       "    .dataframe thead th {\n",
       "        text-align: right;\n",
       "    }\n",
       "</style>\n",
       "<table border=\"1\" class=\"dataframe\">\n",
       "  <thead>\n",
       "    <tr style=\"text-align: right;\">\n",
       "      <th></th>\n",
       "      <th>about_company</th>\n",
       "      <th>application_deadline</th>\n",
       "      <th>job_description</th>\n",
       "      <th>job_responsibilities</th>\n",
       "      <th>job_title</th>\n",
       "      <th>position_duration</th>\n",
       "      <th>position_location</th>\n",
       "      <th>remuneration</th>\n",
       "      <th>required_qualifications</th>\n",
       "    </tr>\n",
       "  </thead>\n",
       "  <tbody>\n",
       "    <tr>\n",
       "      <th>0</th>\n",
       "      <td>None</td>\n",
       "      <td>26 January 2004\\r\\n---------------------------...</td>\n",
       "      <td>AMERIA Investment Consulting Company is seekin...</td>\n",
       "      <td>- Supervises financial management and administ...</td>\n",
       "      <td>Chief Financial Officer</td>\n",
       "      <td>None</td>\n",
       "      <td>Yerevan, Armenia</td>\n",
       "      <td>None</td>\n",
       "      <td>To perform this job successfully, an\\r\\nindivi...</td>\n",
       "    </tr>\n",
       "    <tr>\n",
       "      <th>1</th>\n",
       "      <td>The International Research &amp; Exchanges Board (...</td>\n",
       "      <td>12 January 2004</td>\n",
       "      <td>IREX currently seeks to fill the position of a...</td>\n",
       "      <td>- Presenting the CC program to interested part...</td>\n",
       "      <td>Full-time Community Connections Intern (paid i...</td>\n",
       "      <td>3 months</td>\n",
       "      <td>IREX Armenia Main Office; Yerevan, Armenia</td>\n",
       "      <td>Commensurate with experience.</td>\n",
       "      <td>- Bachelor's Degree; Master's is preferred;\\r\\...</td>\n",
       "    </tr>\n",
       "    <tr>\n",
       "      <th>2</th>\n",
       "      <td>The Caucasus Environmental NGO Network is a\\r\\...</td>\n",
       "      <td>20 January 2004</td>\n",
       "      <td>Public outreach and strengthening of a growing...</td>\n",
       "      <td>- Working with the Country Director to provide...</td>\n",
       "      <td>Country Coordinator</td>\n",
       "      <td>Renewable annual contract</td>\n",
       "      <td>Yerevan, Armenia</td>\n",
       "      <td>Salary commensurate with experience.</td>\n",
       "      <td>- Degree in environmentally related field, or ...</td>\n",
       "    </tr>\n",
       "    <tr>\n",
       "      <th>3</th>\n",
       "      <td>None</td>\n",
       "      <td>23 January 2004</td>\n",
       "      <td>The LEAD (Local Enhancement and Development fo...</td>\n",
       "      <td>- Identify gaps in knowledge and overseeing in...</td>\n",
       "      <td>BCC Specialist</td>\n",
       "      <td>None</td>\n",
       "      <td>Manila, Philippines</td>\n",
       "      <td>None</td>\n",
       "      <td>- Advanced degree in public health, social sci...</td>\n",
       "    </tr>\n",
       "    <tr>\n",
       "      <th>4</th>\n",
       "      <td>None</td>\n",
       "      <td>20 January 2004, 18:00\\r\\n--------------------...</td>\n",
       "      <td>None</td>\n",
       "      <td>- Rendering technical assistance to Database M...</td>\n",
       "      <td>Software Developer</td>\n",
       "      <td>None</td>\n",
       "      <td>Yerevan, Armenia</td>\n",
       "      <td>Will be commensurate with the norms accepted i...</td>\n",
       "      <td>- University degree; economical background is ...</td>\n",
       "    </tr>\n",
       "  </tbody>\n",
       "</table>\n",
       "</div>"
      ],
      "text/plain": [
       "                                       about_company  \\\n",
       "0                                               None   \n",
       "1  The International Research & Exchanges Board (...   \n",
       "2  The Caucasus Environmental NGO Network is a\\r\\...   \n",
       "3                                               None   \n",
       "4                                               None   \n",
       "\n",
       "                                application_deadline  \\\n",
       "0  26 January 2004\\r\\n---------------------------...   \n",
       "1                                    12 January 2004   \n",
       "2                                    20 January 2004   \n",
       "3                                    23 January 2004   \n",
       "4  20 January 2004, 18:00\\r\\n--------------------...   \n",
       "\n",
       "                                     job_description  \\\n",
       "0  AMERIA Investment Consulting Company is seekin...   \n",
       "1  IREX currently seeks to fill the position of a...   \n",
       "2  Public outreach and strengthening of a growing...   \n",
       "3  The LEAD (Local Enhancement and Development fo...   \n",
       "4                                               None   \n",
       "\n",
       "                                job_responsibilities  \\\n",
       "0  - Supervises financial management and administ...   \n",
       "1  - Presenting the CC program to interested part...   \n",
       "2  - Working with the Country Director to provide...   \n",
       "3  - Identify gaps in knowledge and overseeing in...   \n",
       "4  - Rendering technical assistance to Database M...   \n",
       "\n",
       "                                           job_title  \\\n",
       "0                            Chief Financial Officer   \n",
       "1  Full-time Community Connections Intern (paid i...   \n",
       "2                                Country Coordinator   \n",
       "3                                     BCC Specialist   \n",
       "4                                 Software Developer   \n",
       "\n",
       "           position_duration                           position_location  \\\n",
       "0                       None                            Yerevan, Armenia   \n",
       "1                   3 months  IREX Armenia Main Office; Yerevan, Armenia   \n",
       "2  Renewable annual contract                            Yerevan, Armenia   \n",
       "3                       None                         Manila, Philippines   \n",
       "4                       None                            Yerevan, Armenia   \n",
       "\n",
       "                                        remuneration  \\\n",
       "0                                               None   \n",
       "1                      Commensurate with experience.   \n",
       "2               Salary commensurate with experience.   \n",
       "3                                               None   \n",
       "4  Will be commensurate with the norms accepted i...   \n",
       "\n",
       "                             required_qualifications  \n",
       "0  To perform this job successfully, an\\r\\nindivi...  \n",
       "1  - Bachelor's Degree; Master's is preferred;\\r\\...  \n",
       "2  - Degree in environmentally related field, or ...  \n",
       "3  - Advanced degree in public health, social sci...  \n",
       "4  - University degree; economical background is ...  "
      ]
     },
     "execution_count": 21,
     "metadata": {},
     "output_type": "execute_result"
    }
   ],
   "source": [
    "jobposts_parsed.head()"
   ]
  },
  {
   "cell_type": "markdown",
   "metadata": {},
   "source": [
    "## 2.c"
   ]
  },
  {
   "cell_type": "markdown",
   "metadata": {},
   "source": [
    "Most entries are in the same format, e.g. Jan 01, 2015. Some, however, are in a different format. In particular, the year is missing in these entries."
   ]
  },
  {
   "cell_type": "code",
   "execution_count": 22,
   "metadata": {},
   "outputs": [
    {
     "name": "stdout",
     "output_type": "stream",
     "text": [
      "There are 2297 entries in an incompatible format\n"
     ]
    }
   ],
   "source": [
    "print(\"There are {} entries in an incompatible format\".format(\n",
    "    sum([re.match(pattern=\"[A-Z][a-z]{2} [0-9]{1,2}, 20[0-9]{2}\", string=date) \n",
    "         is None for date in postings[\"date\"]])))"
   ]
  },
  {
   "cell_type": "code",
   "execution_count": 23,
   "metadata": {},
   "outputs": [
    {
     "data": {
      "text/plain": [
       "'Jan 5, 2004'"
      ]
     },
     "execution_count": 23,
     "metadata": {},
     "output_type": "execute_result"
    }
   ],
   "source": [
    "# \"Good\" example\n",
    "postings[\"date\"][0]"
   ]
  },
  {
   "cell_type": "code",
   "execution_count": 24,
   "metadata": {},
   "outputs": [
    {
     "data": {
      "text/plain": [
       "'Jun 1 10:13 PM'"
      ]
     },
     "execution_count": 24,
     "metadata": {},
     "output_type": "execute_result"
    }
   ],
   "source": [
    "# \"Bad\" example\n",
    "postings[\"date\"][311]"
   ]
  },
  {
   "cell_type": "markdown",
   "metadata": {},
   "source": [
    "To solve this issue, I look through the previously parsed raw job posts at the application deadlines and use the year of the deadline as the estimated year of publication. It stands to reason that the deadline will be in the same year as the publishing of the job advert.\n",
    "\n",
    "Note: the Kaggle website states that the data ranges from 2004 to 2015, so I assume that \"the last two years\", refers to 2014 to 2015 (I'm assuming 2016 just started)."
   ]
  },
  {
   "cell_type": "code",
   "execution_count": 25,
   "metadata": {},
   "outputs": [
    {
     "data": {
      "text/plain": [
       "'20 January 2016'"
      ]
     },
     "execution_count": 25,
     "metadata": {},
     "output_type": "execute_result"
    }
   ],
   "source": [
    "jobposts_parsed[\"application_deadline\"][index]"
   ]
  },
  {
   "cell_type": "code",
   "execution_count": 26,
   "metadata": {},
   "outputs": [],
   "source": [
    "estimated_year = []\n",
    "for index, posting in postings.iterrows():\n",
    "    match = re.search(pattern=\"(20[0-1][0-9])\", string=posting[\"date\"])\n",
    "    if match is not None:\n",
    "        estimated_year.append(match.groups()[0])\n",
    "    else:\n",
    "        try:\n",
    "            match = re.search(\n",
    "                pattern=\"(20[0-1][0-9])\", \n",
    "                string=jobposts_parsed[\"application_deadline\"][index])\n",
    "            estimated_year.append(match.groups()[0])\n",
    "        except (TypeError, AttributeError):\n",
    "            estimated_year.append(None)"
   ]
  },
  {
   "cell_type": "markdown",
   "metadata": {},
   "source": [
    "Use only job adverts from the last two years and extract the most frequent company."
   ]
  },
  {
   "cell_type": "code",
   "execution_count": 27,
   "metadata": {},
   "outputs": [
    {
     "data": {
      "text/plain": [
       "Index(['jobpost', 'date', 'Title', 'Company', 'AnnouncementCode', 'Term',\n",
       "       'Eligibility', 'Audience', 'StartDate', 'Duration', 'Location',\n",
       "       'JobDescription', 'JobRequirment', 'RequiredQual', 'Salary',\n",
       "       'ApplicationP', 'OpeningDate', 'Deadline', 'Notes', 'AboutC', 'Attach',\n",
       "       'Year', 'Month', 'IT'],\n",
       "      dtype='object')"
      ]
     },
     "execution_count": 27,
     "metadata": {},
     "output_type": "execute_result"
    }
   ],
   "source": [
    "postings.columns"
   ]
  },
  {
   "cell_type": "code",
   "execution_count": 28,
   "metadata": {},
   "outputs": [
    {
     "name": "stdout",
     "output_type": "stream",
     "text": [
      "The most frequent company to post job adverts in 2014 and 2015 was 'Mentor Graphics Development Services CJSC'\n"
     ]
    }
   ],
   "source": [
    "most_freq_company = postings.loc[pd.Series(estimated_year).isin(\n",
    "    [\"2014\", \"2015\"]), \"Company\"].value_counts().index[0]\n",
    "print(\"The most frequent company to post job adverts in 2014 and 2015 was '{}'\".format(most_freq_company))"
   ]
  },
  {
   "cell_type": "markdown",
   "metadata": {},
   "source": [
    "## 2.d"
   ]
  },
  {
   "cell_type": "markdown",
   "metadata": {},
   "source": [
    "The approach is similar to 2.c, except that every entry has month information"
   ]
  },
  {
   "cell_type": "code",
   "execution_count": 29,
   "metadata": {},
   "outputs": [
    {
     "name": "stdout",
     "output_type": "stream",
     "text": [
      "There are 0 entries without a month\n"
     ]
    }
   ],
   "source": [
    "month_matchstring = \"((?:Jan|Feb|Mar|Apr|May|Jun|Jul|Aug|Sep|Oct|Nov|Dec)[a-z]*)\"\n",
    "print(\"There are {} entries without a month\".format(\n",
    "    sum([re.search(pattern=month_matchstring, string=date) is None for date in postings[\"date\"]])))"
   ]
  },
  {
   "cell_type": "code",
   "execution_count": 30,
   "metadata": {},
   "outputs": [],
   "source": [
    "pub_months = [re.search(pattern=month_matchstring, string=date).groups()[0] for date in postings[\"date\"]]\n",
    "pub_freq_by_month = [(key, pub_months.count(key)) for key in set(pub_months)]"
   ]
  },
  {
   "cell_type": "code",
   "execution_count": 31,
   "metadata": {},
   "outputs": [
    {
     "data": {
      "text/plain": [
       "[('Mar', 1702),\n",
       " ('Feb', 1665),\n",
       " ('Jun', 1662),\n",
       " ('Sep', 1652),\n",
       " ('Oct', 1637),\n",
       " ('Aug', 1613),\n",
       " ('Jul', 1595),\n",
       " ('May', 1580),\n",
       " ('Nov', 1573),\n",
       " ('Apr', 1466),\n",
       " ('Dec', 1432),\n",
       " ('Jan', 1424)]"
      ]
     },
     "execution_count": 31,
     "metadata": {},
     "output_type": "execute_result"
    }
   ],
   "source": [
    "sorted(pub_freq_by_month, key=lambda x: x[1], reverse=True)"
   ]
  },
  {
   "cell_type": "code",
   "execution_count": 32,
   "metadata": {},
   "outputs": [
    {
     "name": "stdout",
     "output_type": "stream",
     "text": [
      "The month with the most job is 'Mar'.\n"
     ]
    }
   ],
   "source": [
    "print(\"The month with the most job is '{}'.\".format(\n",
    "    sorted(pub_freq_by_month, key=lambda x: x[1], reverse=True)[0][0]))"
   ]
  },
  {
   "cell_type": "markdown",
   "metadata": {},
   "source": [
    "## 2.e"
   ]
  },
  {
   "cell_type": "markdown",
   "metadata": {},
   "source": [
    "Because the job responsibilities are in bullet-point format with occasional headers and free text, separating them into sentences becomes an arduous task. Instead, I will simply split them into words and remove all punctuation."
   ]
  },
  {
   "cell_type": "code",
   "execution_count": 33,
   "metadata": {},
   "outputs": [],
   "source": [
    "def preprocess_jobposts(input_string):\n",
    "    \"\"\"\n",
    "    The input pipeline consists of the following steps:\n",
    "        - Replace various whitespace and escape characters with spaces\n",
    "        - Remove all non-alphanumeric characters (keep spaces)\n",
    "        - Convert all letters to lower case\n",
    "        - Tokenize words\n",
    "        - Remove stop words\n",
    "        - Stem words\n",
    "    \"\"\"\n",
    "    if input_string is None:\n",
    "        return \"\"\n",
    "    output = re.sub(pattern=\"\\s\", repl=\" \", string=input_string).strip()\n",
    "    output = re.sub(pattern=\"[^A-Za-z0-9 ]\", repl=\"\", string=output).strip()\n",
    "    output = output.lower()\n",
    "    output = nltk.word_tokenize(output)\n",
    "    # We have to remove punctuation from stop words since we've already done so with the main text\n",
    "    stop_words = nltk.corpus.stopwords.words(\"english\")\n",
    "    stop_words = [re.sub(pattern=\"[^A-Za-z0-9 ]\", repl=\"\", string=word).strip() for word in stop_words]\n",
    "    output = [word for word in output if word not in stop_words]\n",
    "    # Since we're only interested in converting plurals to singular we can make like simple for us\n",
    "    # and lemmatize each word as if it were a noun\n",
    "    lemmatizer = nltk.stem.WordNetLemmatizer()\n",
    "    return \" \".join([lemmatizer.lemmatize(word) for word in output])"
   ]
  },
  {
   "cell_type": "code",
   "execution_count": 34,
   "metadata": {},
   "outputs": [],
   "source": [
    "jobposts_parsed[\"job_responsibilities\"] = jobposts_parsed[\"job_responsibilities\"].apply(preprocess_jobposts)"
   ]
  },
  {
   "cell_type": "markdown",
   "metadata": {},
   "source": [
    "I will also apply this to the job requirements as well as the description"
   ]
  },
  {
   "cell_type": "code",
   "execution_count": 35,
   "metadata": {},
   "outputs": [],
   "source": [
    "jobposts_parsed[\"required_qualifications\"] = jobposts_parsed[\"required_qualifications\"].apply(preprocess_jobposts)\n",
    "jobposts_parsed[\"job_description\"] = jobposts_parsed[\"job_description\"].apply(preprocess_jobposts)"
   ]
  },
  {
   "cell_type": "markdown",
   "metadata": {},
   "source": [
    "## 2.f"
   ]
  },
  {
   "cell_type": "code",
   "execution_count": 36,
   "metadata": {},
   "outputs": [],
   "source": [
    "jobposts_parsed[\"position_duration\"] = jobposts_parsed[\"position_duration\"].fillna(\"Undetermined\")"
   ]
  },
  {
   "cell_type": "markdown",
   "metadata": {},
   "source": [
    "## 2.g"
   ]
  },
  {
   "cell_type": "markdown",
   "metadata": {},
   "source": [
    "Merge the existing columns with the new information obtained from the jobposts columns (I will prefer the information mined from the jobposts column over existing columns when thet exist in both data frames)."
   ]
  },
  {
   "cell_type": "code",
   "execution_count": 37,
   "metadata": {},
   "outputs": [
    {
     "data": {
      "text/plain": [
       "Index(['jobpost', 'date', 'Title', 'Company', 'AnnouncementCode', 'Term',\n",
       "       'Eligibility', 'Audience', 'StartDate', 'Duration', 'Location',\n",
       "       'JobDescription', 'JobRequirment', 'RequiredQual', 'Salary',\n",
       "       'ApplicationP', 'OpeningDate', 'Deadline', 'Notes', 'AboutC', 'Attach',\n",
       "       'Year', 'Month', 'IT'],\n",
       "      dtype='object')"
      ]
     },
     "execution_count": 37,
     "metadata": {},
     "output_type": "execute_result"
    }
   ],
   "source": [
    "postings.columns"
   ]
  },
  {
   "cell_type": "code",
   "execution_count": 38,
   "metadata": {},
   "outputs": [
    {
     "data": {
      "text/plain": [
       "Index(['about_company', 'application_deadline', 'job_description',\n",
       "       'job_responsibilities', 'job_title', 'position_duration',\n",
       "       'position_location', 'remuneration', 'required_qualifications'],\n",
       "      dtype='object')"
      ]
     },
     "execution_count": 38,
     "metadata": {},
     "output_type": "execute_result"
    }
   ],
   "source": [
    "jobposts_parsed.columns"
   ]
  },
  {
   "cell_type": "code",
   "execution_count": 39,
   "metadata": {},
   "outputs": [],
   "source": [
    "postings_full = pd.concat((\n",
    "    postings[[\"jobpost\", \"date\", \"Company\", \"AnnouncementCode\", \"Term\", \n",
    "              \"Eligibility\", \"Audience\", \"StartDate\", \"ApplicationP\", \n",
    "              \"OpeningDate\", \"Notes\", \"Attach\"]], jobposts_parsed), \n",
    "    axis=1)"
   ]
  },
  {
   "cell_type": "code",
   "execution_count": 40,
   "metadata": {},
   "outputs": [
    {
     "data": {
      "text/html": [
       "<div>\n",
       "<style scoped>\n",
       "    .dataframe tbody tr th:only-of-type {\n",
       "        vertical-align: middle;\n",
       "    }\n",
       "\n",
       "    .dataframe tbody tr th {\n",
       "        vertical-align: top;\n",
       "    }\n",
       "\n",
       "    .dataframe thead th {\n",
       "        text-align: right;\n",
       "    }\n",
       "</style>\n",
       "<table border=\"1\" class=\"dataframe\">\n",
       "  <thead>\n",
       "    <tr style=\"text-align: right;\">\n",
       "      <th></th>\n",
       "      <th>jobpost</th>\n",
       "      <th>date</th>\n",
       "      <th>Company</th>\n",
       "      <th>AnnouncementCode</th>\n",
       "      <th>Term</th>\n",
       "      <th>Eligibility</th>\n",
       "      <th>Audience</th>\n",
       "      <th>StartDate</th>\n",
       "      <th>ApplicationP</th>\n",
       "      <th>OpeningDate</th>\n",
       "      <th>...</th>\n",
       "      <th>Attach</th>\n",
       "      <th>about_company</th>\n",
       "      <th>application_deadline</th>\n",
       "      <th>job_description</th>\n",
       "      <th>job_responsibilities</th>\n",
       "      <th>job_title</th>\n",
       "      <th>position_duration</th>\n",
       "      <th>position_location</th>\n",
       "      <th>remuneration</th>\n",
       "      <th>required_qualifications</th>\n",
       "    </tr>\n",
       "  </thead>\n",
       "  <tbody>\n",
       "    <tr>\n",
       "      <th>0</th>\n",
       "      <td>AMERIA Investment Consulting Company\\r\\nJOB TI...</td>\n",
       "      <td>Jan 5, 2004</td>\n",
       "      <td>AMERIA Investment Consulting Company</td>\n",
       "      <td>NaN</td>\n",
       "      <td>NaN</td>\n",
       "      <td>NaN</td>\n",
       "      <td>NaN</td>\n",
       "      <td>NaN</td>\n",
       "      <td>To apply for this position, please submit a\\r\\...</td>\n",
       "      <td>NaN</td>\n",
       "      <td>...</td>\n",
       "      <td>NaN</td>\n",
       "      <td>None</td>\n",
       "      <td>26 January 2004\\r\\n---------------------------...</td>\n",
       "      <td>ameria investment consulting company seeking c...</td>\n",
       "      <td>supervises financial management administrative...</td>\n",
       "      <td>Chief Financial Officer</td>\n",
       "      <td>Undetermined</td>\n",
       "      <td>Yerevan, Armenia</td>\n",
       "      <td>None</td>\n",
       "      <td>perform job successfully individual must able ...</td>\n",
       "    </tr>\n",
       "    <tr>\n",
       "      <th>1</th>\n",
       "      <td>International Research &amp; Exchanges Board (IREX...</td>\n",
       "      <td>Jan 7, 2004</td>\n",
       "      <td>International Research &amp; Exchanges Board (IREX)</td>\n",
       "      <td>NaN</td>\n",
       "      <td>NaN</td>\n",
       "      <td>NaN</td>\n",
       "      <td>NaN</td>\n",
       "      <td>NaN</td>\n",
       "      <td>Please submit a cover letter and resume to:\\r\\...</td>\n",
       "      <td>NaN</td>\n",
       "      <td>...</td>\n",
       "      <td>NaN</td>\n",
       "      <td>The International Research &amp; Exchanges Board (...</td>\n",
       "      <td>12 January 2004</td>\n",
       "      <td>irex currently seek fill position paid intern ...</td>\n",
       "      <td>presenting cc program interested party assisti...</td>\n",
       "      <td>Full-time Community Connections Intern (paid i...</td>\n",
       "      <td>3 months</td>\n",
       "      <td>IREX Armenia Main Office; Yerevan, Armenia</td>\n",
       "      <td>Commensurate with experience.</td>\n",
       "      <td>bachelor degree master preferred excellent ski...</td>\n",
       "    </tr>\n",
       "    <tr>\n",
       "      <th>2</th>\n",
       "      <td>Caucasus Environmental NGO Network (CENN)\\r\\nJ...</td>\n",
       "      <td>Jan 7, 2004</td>\n",
       "      <td>Caucasus Environmental NGO Network (CENN)</td>\n",
       "      <td>NaN</td>\n",
       "      <td>NaN</td>\n",
       "      <td>NaN</td>\n",
       "      <td>NaN</td>\n",
       "      <td>NaN</td>\n",
       "      <td>Please send resume or CV toursula.kazarian@......</td>\n",
       "      <td>NaN</td>\n",
       "      <td>...</td>\n",
       "      <td>NaN</td>\n",
       "      <td>The Caucasus Environmental NGO Network is a\\r\\...</td>\n",
       "      <td>20 January 2004</td>\n",
       "      <td>public outreach strengthening growing network ...</td>\n",
       "      <td>working country director provide environmental...</td>\n",
       "      <td>Country Coordinator</td>\n",
       "      <td>Renewable annual contract</td>\n",
       "      <td>Yerevan, Armenia</td>\n",
       "      <td>Salary commensurate with experience.</td>\n",
       "      <td>degree environmentally related field 5 year re...</td>\n",
       "    </tr>\n",
       "    <tr>\n",
       "      <th>3</th>\n",
       "      <td>Manoff Group\\r\\nJOB TITLE:  BCC Specialist\\r\\n...</td>\n",
       "      <td>Jan 7, 2004</td>\n",
       "      <td>Manoff Group</td>\n",
       "      <td>NaN</td>\n",
       "      <td>NaN</td>\n",
       "      <td>NaN</td>\n",
       "      <td>NaN</td>\n",
       "      <td>NaN</td>\n",
       "      <td>Please send cover letter and resume to Amy\\r\\n...</td>\n",
       "      <td>NaN</td>\n",
       "      <td>...</td>\n",
       "      <td>NaN</td>\n",
       "      <td>None</td>\n",
       "      <td>23 January 2004</td>\n",
       "      <td>lead local enhancement development health bcc ...</td>\n",
       "      <td>identify gap knowledge overseeing information ...</td>\n",
       "      <td>BCC Specialist</td>\n",
       "      <td>Undetermined</td>\n",
       "      <td>Manila, Philippines</td>\n",
       "      <td>None</td>\n",
       "      <td>advanced degree public health social science c...</td>\n",
       "    </tr>\n",
       "    <tr>\n",
       "      <th>4</th>\n",
       "      <td>Yerevan Brandy Company\\r\\nJOB TITLE:  Software...</td>\n",
       "      <td>Jan 10, 2004</td>\n",
       "      <td>Yerevan Brandy Company</td>\n",
       "      <td>NaN</td>\n",
       "      <td>NaN</td>\n",
       "      <td>NaN</td>\n",
       "      <td>NaN</td>\n",
       "      <td>NaN</td>\n",
       "      <td>Successful candidates should submit\\r\\n- CV; \\...</td>\n",
       "      <td>NaN</td>\n",
       "      <td>...</td>\n",
       "      <td>NaN</td>\n",
       "      <td>None</td>\n",
       "      <td>20 January 2004, 18:00\\r\\n--------------------...</td>\n",
       "      <td></td>\n",
       "      <td>rendering technical assistance database manage...</td>\n",
       "      <td>Software Developer</td>\n",
       "      <td>Undetermined</td>\n",
       "      <td>Yerevan, Armenia</td>\n",
       "      <td>Will be commensurate with the norms accepted i...</td>\n",
       "      <td>university degree economical background plus e...</td>\n",
       "    </tr>\n",
       "  </tbody>\n",
       "</table>\n",
       "<p>5 rows × 21 columns</p>\n",
       "</div>"
      ],
      "text/plain": [
       "                                             jobpost          date  \\\n",
       "0  AMERIA Investment Consulting Company\\r\\nJOB TI...   Jan 5, 2004   \n",
       "1  International Research & Exchanges Board (IREX...   Jan 7, 2004   \n",
       "2  Caucasus Environmental NGO Network (CENN)\\r\\nJ...   Jan 7, 2004   \n",
       "3  Manoff Group\\r\\nJOB TITLE:  BCC Specialist\\r\\n...   Jan 7, 2004   \n",
       "4  Yerevan Brandy Company\\r\\nJOB TITLE:  Software...  Jan 10, 2004   \n",
       "\n",
       "                                           Company AnnouncementCode Term  \\\n",
       "0             AMERIA Investment Consulting Company              NaN  NaN   \n",
       "1  International Research & Exchanges Board (IREX)              NaN  NaN   \n",
       "2        Caucasus Environmental NGO Network (CENN)              NaN  NaN   \n",
       "3                                     Manoff Group              NaN  NaN   \n",
       "4                           Yerevan Brandy Company              NaN  NaN   \n",
       "\n",
       "  Eligibility Audience StartDate  \\\n",
       "0         NaN      NaN       NaN   \n",
       "1         NaN      NaN       NaN   \n",
       "2         NaN      NaN       NaN   \n",
       "3         NaN      NaN       NaN   \n",
       "4         NaN      NaN       NaN   \n",
       "\n",
       "                                        ApplicationP OpeningDate  ... Attach  \\\n",
       "0  To apply for this position, please submit a\\r\\...         NaN  ...    NaN   \n",
       "1  Please submit a cover letter and resume to:\\r\\...         NaN  ...    NaN   \n",
       "2  Please send resume or CV toursula.kazarian@......         NaN  ...    NaN   \n",
       "3  Please send cover letter and resume to Amy\\r\\n...         NaN  ...    NaN   \n",
       "4  Successful candidates should submit\\r\\n- CV; \\...         NaN  ...    NaN   \n",
       "\n",
       "                                       about_company  \\\n",
       "0                                               None   \n",
       "1  The International Research & Exchanges Board (...   \n",
       "2  The Caucasus Environmental NGO Network is a\\r\\...   \n",
       "3                                               None   \n",
       "4                                               None   \n",
       "\n",
       "                                application_deadline  \\\n",
       "0  26 January 2004\\r\\n---------------------------...   \n",
       "1                                    12 January 2004   \n",
       "2                                    20 January 2004   \n",
       "3                                    23 January 2004   \n",
       "4  20 January 2004, 18:00\\r\\n--------------------...   \n",
       "\n",
       "                                     job_description  \\\n",
       "0  ameria investment consulting company seeking c...   \n",
       "1  irex currently seek fill position paid intern ...   \n",
       "2  public outreach strengthening growing network ...   \n",
       "3  lead local enhancement development health bcc ...   \n",
       "4                                                      \n",
       "\n",
       "                                job_responsibilities  \\\n",
       "0  supervises financial management administrative...   \n",
       "1  presenting cc program interested party assisti...   \n",
       "2  working country director provide environmental...   \n",
       "3  identify gap knowledge overseeing information ...   \n",
       "4  rendering technical assistance database manage...   \n",
       "\n",
       "                                           job_title  \\\n",
       "0                            Chief Financial Officer   \n",
       "1  Full-time Community Connections Intern (paid i...   \n",
       "2                                Country Coordinator   \n",
       "3                                     BCC Specialist   \n",
       "4                                 Software Developer   \n",
       "\n",
       "           position_duration                           position_location  \\\n",
       "0               Undetermined                            Yerevan, Armenia   \n",
       "1                   3 months  IREX Armenia Main Office; Yerevan, Armenia   \n",
       "2  Renewable annual contract                            Yerevan, Armenia   \n",
       "3               Undetermined                         Manila, Philippines   \n",
       "4               Undetermined                            Yerevan, Armenia   \n",
       "\n",
       "                                        remuneration  \\\n",
       "0                                               None   \n",
       "1                      Commensurate with experience.   \n",
       "2               Salary commensurate with experience.   \n",
       "3                                               None   \n",
       "4  Will be commensurate with the norms accepted i...   \n",
       "\n",
       "                             required_qualifications  \n",
       "0  perform job successfully individual must able ...  \n",
       "1  bachelor degree master preferred excellent ski...  \n",
       "2  degree environmentally related field 5 year re...  \n",
       "3  advanced degree public health social science c...  \n",
       "4  university degree economical background plus e...  \n",
       "\n",
       "[5 rows x 21 columns]"
      ]
     },
     "execution_count": 40,
     "metadata": {},
     "output_type": "execute_result"
    }
   ],
   "source": [
    "postings_full.head()"
   ]
  },
  {
   "cell_type": "code",
   "execution_count": 41,
   "metadata": {},
   "outputs": [],
   "source": [
    "con = sqlite3.connect(\"jobposts.sqlite3\")\n",
    "postings_full.to_sql(\"jobposts\", con)\n",
    "con.close()"
   ]
  },
  {
   "cell_type": "markdown",
   "metadata": {},
   "source": [
    "# Question 3"
   ]
  },
  {
   "cell_type": "markdown",
   "metadata": {},
   "source": [
    "I utilize the job responsibilities column converted above to identify semantically similar jobs. I use Word2Vec embeddings pretrained on Google's news article database (see [this link](http://mccormickml.com/2016/04/12/googles-pretrained-word2vec-model-in-python/)) to extract word scores. A job post's score is defined as the mean of score vectors of all words. You can download the [model](https://drive.google.com/file/d/0B7XkCwpI5KDYNlNUTTlSS21pQmM/edit?usp=sharing), but be warned that it is a 1.5 GB archive!"
   ]
  },
  {
   "cell_type": "code",
   "execution_count": 42,
   "metadata": {},
   "outputs": [],
   "source": [
    "model = gensim.models.KeyedVectors.load_word2vec_format('GoogleNews-vectors-negative300.bin', binary=True)  "
   ]
  },
  {
   "cell_type": "code",
   "execution_count": 43,
   "metadata": {},
   "outputs": [],
   "source": [
    "def get_post_score(text, model):\n",
    "    try:\n",
    "        tokens = nltk.word_tokenize(text)\n",
    "        return np.mean([model.get_vector(token) for token in tokens \n",
    "                        if token in model.vocab.keys()], \n",
    "                       axis=0)\n",
    "    except TypeError:\n",
    "        return None"
   ]
  },
  {
   "cell_type": "code",
   "execution_count": 44,
   "metadata": {},
   "outputs": [
    {
     "name": "stderr",
     "output_type": "stream",
     "text": [
      "/home/jan/anaconda3/envs/py3/lib/python3.7/site-packages/numpy/core/fromnumeric.py:3118: RuntimeWarning: Mean of empty slice.\n",
      "  out=out, **kwargs)\n"
     ]
    }
   ],
   "source": [
    "job_scores = postings_full[\"job_responsibilities\"].apply(get_post_score, model=model)"
   ]
  },
  {
   "cell_type": "code",
   "execution_count": 45,
   "metadata": {},
   "outputs": [
    {
     "data": {
      "text/plain": [
       "0    [-0.082119934, 0.012898763, 0.0039139614, -0.0...\n",
       "1    [0.009970838, 0.03340045, 0.023339879, -0.0071...\n",
       "2    [-0.052274432, -0.015332031, -0.0060650418, -0...\n",
       "3    [-0.08895455, 0.0028847214, 0.01352956, 0.0158...\n",
       "4    [0.0065231323, -0.03805203, -0.030592177, 0.05...\n",
       "5                                                  NaN\n",
       "6                                                  NaN\n",
       "7                                                  NaN\n",
       "8    [-0.04382381, -0.0045410437, 0.004175257, -0.0...\n",
       "9                                                  NaN\n",
       "Name: job_responsibilities, dtype: object"
      ]
     },
     "execution_count": 45,
     "metadata": {},
     "output_type": "execute_result"
    }
   ],
   "source": [
    "job_scores.head(10)"
   ]
  },
  {
   "cell_type": "code",
   "execution_count": 46,
   "metadata": {},
   "outputs": [
    {
     "name": "stdout",
     "output_type": "stream",
     "text": [
      "There are 16471 job postings with valid score vectors.\n",
      "This is equivalent to 135638685 distance computations.\n"
     ]
    }
   ],
   "source": [
    "num_valid_postings = len(job_scores) - job_scores.isna().sum()\n",
    "print(\"There are {} job postings with valid score vectors.\".format(num_valid_postings))\n",
    "print(\"This is equivalent to {:.0f} distance computations.\".format(\n",
    "    (num_valid_postings**2-num_valid_postings)/2))"
   ]
  },
  {
   "cell_type": "markdown",
   "metadata": {},
   "source": [
    "Computing a similarity matrix and identifying groups is completely unfeasible.\n",
    "\n",
    "The example below shows that my approach, averaging the word embeddings, does identify similar sentences."
   ]
  },
  {
   "cell_type": "code",
   "execution_count": 47,
   "metadata": {},
   "outputs": [
    {
     "data": {
      "text/plain": [
       "array([[1.0000002 , 0.9508674 , 0.12271819],\n",
       "       [0.9508674 , 0.99999994, 0.15431881],\n",
       "       [0.12271819, 0.15431881, 1.        ]], dtype=float32)"
      ]
     },
     "execution_count": 47,
     "metadata": {},
     "output_type": "execute_result"
    }
   ],
   "source": [
    "import sklearn.metrics.pairwise\n",
    "a = get_post_score(\"The quick brown fox\", model)\n",
    "b = get_post_score(\"The fox was brown and quick\", model)\n",
    "c = get_post_score(\"Computer networks are vast\", model)\n",
    "sklearn.metrics.pairwise.cosine_similarity([a, b, c])"
   ]
  },
  {
   "cell_type": "markdown",
   "metadata": {},
   "source": [
    "# Question 4"
   ]
  },
  {
   "cell_type": "markdown",
   "metadata": {},
   "source": [
    "## 4.a"
   ]
  },
  {
   "cell_type": "code",
   "execution_count": 48,
   "metadata": {},
   "outputs": [],
   "source": [
    "raw_text = requests.get(\"https://en.wikipedia.org/wiki/1990s_in_music\").text"
   ]
  },
  {
   "cell_type": "markdown",
   "metadata": {},
   "source": [
    "## 4.b"
   ]
  },
  {
   "cell_type": "code",
   "execution_count": 49,
   "metadata": {},
   "outputs": [],
   "source": [
    "best_selling_artists = pd.read_html(\"https://en.wikipedia.org/wiki/List_of_best-selling_music_artists\")"
   ]
  },
  {
   "cell_type": "markdown",
   "metadata": {},
   "source": [
    "The first 6 tables are of best-selling artists."
   ]
  },
  {
   "cell_type": "code",
   "execution_count": 50,
   "metadata": {},
   "outputs": [
    {
     "name": "stdout",
     "output_type": "stream",
     "text": [
      "Index(['Artist', 'Country / Market', 'Period active',\n",
      "       'Release year of first charted record', 'Genre',\n",
      "       'Total certified units(from available markets)[a]', 'Claimed sales'],\n",
      "      dtype='object')\n",
      "Index(['Artist', 'Country / Market', 'Period active',\n",
      "       'Release-year of first charted record', 'Genre',\n",
      "       'Total certified units(from available markets)[a]', 'Claimed sales'],\n",
      "      dtype='object')\n",
      "Index(['Artist', 'Country / Market', 'Period active',\n",
      "       'Release-year of first charted record', 'Genre',\n",
      "       'Total certified units(from available markets)[a]', 'Claimed sales'],\n",
      "      dtype='object')\n",
      "Index(['Artist', 'Country / Market', 'Period active',\n",
      "       'Release-year of first charted record', 'Genre',\n",
      "       'Total certified units(from available markets)[a]', 'Claimed sales'],\n",
      "      dtype='object')\n",
      "Index(['Artist', 'Country / Market', 'Period active',\n",
      "       'Release-year of first charted record', 'Genre',\n",
      "       'Total certified units(from available markets)[a]', 'Claimed sales'],\n",
      "      dtype='object')\n",
      "Index(['Artist', 'Country / Market', 'Period active',\n",
      "       'Release-year of first charted record', 'Genre',\n",
      "       'Total certified units(from available markets)[a]', 'Claimed sales'],\n",
      "      dtype='object')\n",
      "Index(['vteMusic industry', 'vteMusic industry.1'], dtype='object')\n",
      "Int64Index([0, 1], dtype='int64')\n",
      "Int64Index([0, 1], dtype='int64')\n",
      "Int64Index([0, 1], dtype='int64')\n"
     ]
    }
   ],
   "source": [
    "for entry in best_selling_artists:\n",
    "    print(entry.columns)"
   ]
  },
  {
   "cell_type": "code",
   "execution_count": 51,
   "metadata": {},
   "outputs": [],
   "source": [
    "best_selling_artist_names = set([\n",
    "    artist for entry in best_selling_artists[0:6]\n",
    "    for artist in entry[\"Artist\"]])"
   ]
  },
  {
   "cell_type": "code",
   "execution_count": 52,
   "metadata": {},
   "outputs": [],
   "source": [
    "best_selling_artists_90s = [\n",
    "    artist for artist in best_selling_artist_names \n",
    "    if re.search(artist, raw_text) is not None]"
   ]
  },
  {
   "cell_type": "code",
   "execution_count": 53,
   "metadata": {},
   "outputs": [
    {
     "name": "stdout",
     "output_type": "stream",
     "text": [
      "Of the 116 best selling artists listed on Wikipedia, 44 are from the 1990s\n"
     ]
    }
   ],
   "source": [
    "print(\"Of the {} best selling artists listed on Wikipedia, {} are from the 1990s\".format(\n",
    "    len(best_selling_artist_names), len(best_selling_artists_90s)))"
   ]
  }
 ],
 "metadata": {
  "kernelspec": {
   "display_name": "Python 3",
   "language": "python",
   "name": "python3"
  },
  "language_info": {
   "codemirror_mode": {
    "name": "ipython",
    "version": 3
   },
   "file_extension": ".py",
   "mimetype": "text/x-python",
   "name": "python",
   "nbconvert_exporter": "python",
   "pygments_lexer": "ipython3",
   "version": "3.7.3"
  }
 },
 "nbformat": 4,
 "nbformat_minor": 2
}
